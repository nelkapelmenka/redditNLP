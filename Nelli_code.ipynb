{
 "cells": [
  {
   "cell_type": "code",
   "execution_count": 271,
   "metadata": {},
   "outputs": [],
   "source": [
    "import pandas as pd\n",
    "import numpy as np\n",
    "import matplotlib.pyplot as plt\n",
    "import seaborn as sns\n",
    "import requests\n",
    "import re\n",
    "from sklearn.feature_extraction.text import CountVectorizer, TfidfVectorizer\n",
    "from sklearn.model_selection import train_test_split, GridSearchCV\n",
    "from sklearn.pipeline import Pipeline\n",
    "from sklearn.naive_bayes import MultinomialNB\n",
    "from sklearn.ensemble import RandomForestClassifier\n",
    "from sklearn.metrics import confusion_matrix\n",
    "from nltk.tokenize import RegexpTokenizer\n",
    "from nltk.stem import WordNetLemmatizer"
   ]
  },
  {
   "cell_type": "markdown",
   "metadata": {},
   "source": [
    "## Step 1: Scraping and Getting the Data"
   ]
  },
  {
   "cell_type": "code",
   "execution_count": 3,
   "metadata": {},
   "outputs": [],
   "source": [
    "def collect_data(subreddit, final_count):\n",
    "    url = f'https://api.pushshift.io/reddit/search/submission?size=100&subreddit={subreddit}'\n",
    "    data = pd.DataFrame()\n",
    "    for i in range(final_count):\n",
    "        print(i)\n",
    "        req = requests.get(url)\n",
    "        file = req.json()\n",
    "        posts = file['data']\n",
    "        posts_df = pd.DataFrame(posts)\n",
    "        data = data.append(posts_df)\n",
    "        before_param = min(posts_df['created_utc']-1)\n",
    "        url = f'https://api.pushshift.io/reddit/search/submission?before={before_param}&size=100&subreddit={subreddit}'\n",
    "        \n",
    "    return data"
   ]
  },
  {
   "cell_type": "code",
   "execution_count": 4,
   "metadata": {
    "collapsed": true,
    "jupyter": {
     "outputs_hidden": true
    }
   },
   "outputs": [
    {
     "name": "stdout",
     "output_type": "stream",
     "text": [
      "0\n",
      "1\n",
      "2\n",
      "3\n",
      "4\n",
      "5\n",
      "6\n",
      "7\n",
      "8\n",
      "9\n",
      "10\n",
      "11\n",
      "12\n",
      "13\n",
      "14\n",
      "15\n",
      "16\n",
      "17\n",
      "18\n",
      "19\n",
      "20\n",
      "21\n",
      "22\n",
      "23\n",
      "24\n",
      "25\n",
      "26\n",
      "27\n",
      "28\n",
      "29\n",
      "30\n",
      "31\n",
      "32\n",
      "33\n",
      "34\n",
      "35\n",
      "36\n",
      "37\n",
      "38\n",
      "39\n",
      "40\n",
      "41\n",
      "42\n",
      "43\n",
      "44\n",
      "45\n",
      "46\n",
      "47\n",
      "48\n",
      "49\n"
     ]
    }
   ],
   "source": [
    "phys_df = collect_data('physics', 50)"
   ]
  },
  {
   "cell_type": "code",
   "execution_count": 5,
   "metadata": {
    "collapsed": true,
    "jupyter": {
     "outputs_hidden": true
    }
   },
   "outputs": [
    {
     "name": "stdout",
     "output_type": "stream",
     "text": [
      "0\n",
      "1\n",
      "2\n",
      "3\n",
      "4\n",
      "5\n",
      "6\n",
      "7\n",
      "8\n",
      "9\n",
      "10\n",
      "11\n",
      "12\n",
      "13\n",
      "14\n",
      "15\n",
      "16\n",
      "17\n",
      "18\n",
      "19\n",
      "20\n",
      "21\n",
      "22\n",
      "23\n",
      "24\n",
      "25\n",
      "26\n",
      "27\n",
      "28\n",
      "29\n",
      "30\n",
      "31\n",
      "32\n",
      "33\n",
      "34\n",
      "35\n",
      "36\n",
      "37\n",
      "38\n",
      "39\n",
      "40\n",
      "41\n",
      "42\n",
      "43\n",
      "44\n",
      "45\n",
      "46\n",
      "47\n",
      "48\n",
      "49\n"
     ]
    }
   ],
   "source": [
    "astro_df = collect_data('astronomy', 50)"
   ]
  },
  {
   "cell_type": "code",
   "execution_count": 6,
   "metadata": {},
   "outputs": [
    {
     "data": {
      "text/plain": [
       "(5000, 85)"
      ]
     },
     "execution_count": 6,
     "metadata": {},
     "output_type": "execute_result"
    }
   ],
   "source": [
    "phys_df.shape"
   ]
  },
  {
   "cell_type": "code",
   "execution_count": 7,
   "metadata": {},
   "outputs": [
    {
     "data": {
      "text/plain": [
       "(5000, 80)"
      ]
     },
     "execution_count": 7,
     "metadata": {},
     "output_type": "execute_result"
    }
   ],
   "source": [
    "astro_df.shape"
   ]
  },
  {
   "cell_type": "markdown",
   "metadata": {},
   "source": [
    "In case I close my notebook I saved these files, as to avoid spending any more time on scraping."
   ]
  },
  {
   "cell_type": "code",
   "execution_count": 8,
   "metadata": {},
   "outputs": [],
   "source": [
    "phys_df.to_csv('raw_phys.csv')"
   ]
  },
  {
   "cell_type": "code",
   "execution_count": 9,
   "metadata": {},
   "outputs": [],
   "source": [
    "astro_df.to_csv('raw_astro.csv')"
   ]
  },
  {
   "cell_type": "code",
   "execution_count": 141,
   "metadata": {},
   "outputs": [
    {
     "data": {
      "text/plain": [
       "array(['distinguished', 'gilded', 'link_flair_css_class',\n",
       "       'link_flair_template_id', 'link_flair_text'], dtype=object)"
      ]
     },
     "execution_count": 141,
     "metadata": {},
     "output_type": "execute_result"
    }
   ],
   "source": [
    "np.setdiff1d(phys_df.columns, astro_df.columns) # None of these are crucial"
   ]
  },
  {
   "cell_type": "markdown",
   "metadata": {},
   "source": [
    "## Step 2: Working with the Data"
   ]
  },
  {
   "cell_type": "code",
   "execution_count": 194,
   "metadata": {},
   "outputs": [
    {
     "data": {
      "text/html": [
       "<div>\n",
       "<style scoped>\n",
       "    .dataframe tbody tr th:only-of-type {\n",
       "        vertical-align: middle;\n",
       "    }\n",
       "\n",
       "    .dataframe tbody tr th {\n",
       "        vertical-align: top;\n",
       "    }\n",
       "\n",
       "    .dataframe thead th {\n",
       "        text-align: right;\n",
       "    }\n",
       "</style>\n",
       "<table border=\"1\" class=\"dataframe\">\n",
       "  <thead>\n",
       "    <tr style=\"text-align: right;\">\n",
       "      <th></th>\n",
       "      <th>Unnamed: 0</th>\n",
       "      <th>all_awardings</th>\n",
       "      <th>allow_live_comments</th>\n",
       "      <th>author</th>\n",
       "      <th>author_flair_css_class</th>\n",
       "      <th>author_flair_richtext</th>\n",
       "      <th>author_flair_text</th>\n",
       "      <th>author_flair_type</th>\n",
       "      <th>author_fullname</th>\n",
       "      <th>author_patreon_flair</th>\n",
       "      <th>...</th>\n",
       "      <th>is_gallery</th>\n",
       "      <th>media_metadata</th>\n",
       "      <th>distinguished</th>\n",
       "      <th>author_flair_background_color</th>\n",
       "      <th>poll_data</th>\n",
       "      <th>gilded</th>\n",
       "      <th>edited</th>\n",
       "      <th>suggested_sort</th>\n",
       "      <th>banned_by</th>\n",
       "      <th>link_flair_template_id</th>\n",
       "    </tr>\n",
       "  </thead>\n",
       "  <tbody>\n",
       "    <tr>\n",
       "      <th>0</th>\n",
       "      <td>0</td>\n",
       "      <td>[]</td>\n",
       "      <td>False</td>\n",
       "      <td>UFO_OVNI_ERROR_404</td>\n",
       "      <td>NaN</td>\n",
       "      <td>[]</td>\n",
       "      <td>NaN</td>\n",
       "      <td>text</td>\n",
       "      <td>t2_4zzqxs61</td>\n",
       "      <td>False</td>\n",
       "      <td>...</td>\n",
       "      <td>NaN</td>\n",
       "      <td>NaN</td>\n",
       "      <td>NaN</td>\n",
       "      <td>NaN</td>\n",
       "      <td>NaN</td>\n",
       "      <td>NaN</td>\n",
       "      <td>NaN</td>\n",
       "      <td>NaN</td>\n",
       "      <td>NaN</td>\n",
       "      <td>NaN</td>\n",
       "    </tr>\n",
       "    <tr>\n",
       "      <th>1</th>\n",
       "      <td>1</td>\n",
       "      <td>[]</td>\n",
       "      <td>False</td>\n",
       "      <td>MTMartino</td>\n",
       "      <td>NaN</td>\n",
       "      <td>[]</td>\n",
       "      <td>NaN</td>\n",
       "      <td>text</td>\n",
       "      <td>t2_9nv3l</td>\n",
       "      <td>False</td>\n",
       "      <td>...</td>\n",
       "      <td>NaN</td>\n",
       "      <td>NaN</td>\n",
       "      <td>NaN</td>\n",
       "      <td>NaN</td>\n",
       "      <td>NaN</td>\n",
       "      <td>NaN</td>\n",
       "      <td>NaN</td>\n",
       "      <td>NaN</td>\n",
       "      <td>NaN</td>\n",
       "      <td>NaN</td>\n",
       "    </tr>\n",
       "  </tbody>\n",
       "</table>\n",
       "<p>2 rows × 86 columns</p>\n",
       "</div>"
      ],
      "text/plain": [
       "   Unnamed: 0 all_awardings  allow_live_comments              author  \\\n",
       "0           0            []                False  UFO_OVNI_ERROR_404   \n",
       "1           1            []                False           MTMartino   \n",
       "\n",
       "  author_flair_css_class author_flair_richtext author_flair_text  \\\n",
       "0                    NaN                    []               NaN   \n",
       "1                    NaN                    []               NaN   \n",
       "\n",
       "  author_flair_type author_fullname author_patreon_flair  ... is_gallery  \\\n",
       "0              text     t2_4zzqxs61                False  ...        NaN   \n",
       "1              text        t2_9nv3l                False  ...        NaN   \n",
       "\n",
       "  media_metadata  distinguished  author_flair_background_color  poll_data  \\\n",
       "0            NaN            NaN                            NaN        NaN   \n",
       "1            NaN            NaN                            NaN        NaN   \n",
       "\n",
       "  gilded edited suggested_sort banned_by  link_flair_template_id  \n",
       "0    NaN    NaN            NaN       NaN                     NaN  \n",
       "1    NaN    NaN            NaN       NaN                     NaN  \n",
       "\n",
       "[2 rows x 86 columns]"
      ]
     },
     "execution_count": 194,
     "metadata": {},
     "output_type": "execute_result"
    }
   ],
   "source": [
    "phys = pd.read_csv('raw_phys.csv')\n",
    "phys.head(2)"
   ]
  },
  {
   "cell_type": "code",
   "execution_count": 195,
   "metadata": {},
   "outputs": [
    {
     "data": {
      "text/html": [
       "<div>\n",
       "<style scoped>\n",
       "    .dataframe tbody tr th:only-of-type {\n",
       "        vertical-align: middle;\n",
       "    }\n",
       "\n",
       "    .dataframe tbody tr th {\n",
       "        vertical-align: top;\n",
       "    }\n",
       "\n",
       "    .dataframe thead th {\n",
       "        text-align: right;\n",
       "    }\n",
       "</style>\n",
       "<table border=\"1\" class=\"dataframe\">\n",
       "  <thead>\n",
       "    <tr style=\"text-align: right;\">\n",
       "      <th></th>\n",
       "      <th>Unnamed: 0</th>\n",
       "      <th>all_awardings</th>\n",
       "      <th>allow_live_comments</th>\n",
       "      <th>author</th>\n",
       "      <th>author_flair_css_class</th>\n",
       "      <th>author_flair_richtext</th>\n",
       "      <th>author_flair_text</th>\n",
       "      <th>author_flair_type</th>\n",
       "      <th>author_fullname</th>\n",
       "      <th>author_patreon_flair</th>\n",
       "      <th>...</th>\n",
       "      <th>media_metadata</th>\n",
       "      <th>author_flair_background_color</th>\n",
       "      <th>author_flair_text_color</th>\n",
       "      <th>author_cakeday</th>\n",
       "      <th>edited</th>\n",
       "      <th>banned_by</th>\n",
       "      <th>poll_data</th>\n",
       "      <th>author_flair_template_id</th>\n",
       "      <th>crosspost_parent</th>\n",
       "      <th>crosspost_parent_list</th>\n",
       "    </tr>\n",
       "  </thead>\n",
       "  <tbody>\n",
       "    <tr>\n",
       "      <th>0</th>\n",
       "      <td>0</td>\n",
       "      <td>[]</td>\n",
       "      <td>False</td>\n",
       "      <td>Holiday_Cheermeister</td>\n",
       "      <td>NaN</td>\n",
       "      <td>[]</td>\n",
       "      <td>NaN</td>\n",
       "      <td>text</td>\n",
       "      <td>t2_4lvbx013</td>\n",
       "      <td>False</td>\n",
       "      <td>...</td>\n",
       "      <td>NaN</td>\n",
       "      <td>NaN</td>\n",
       "      <td>NaN</td>\n",
       "      <td>NaN</td>\n",
       "      <td>NaN</td>\n",
       "      <td>NaN</td>\n",
       "      <td>NaN</td>\n",
       "      <td>NaN</td>\n",
       "      <td>NaN</td>\n",
       "      <td>NaN</td>\n",
       "    </tr>\n",
       "    <tr>\n",
       "      <th>1</th>\n",
       "      <td>1</td>\n",
       "      <td>[]</td>\n",
       "      <td>False</td>\n",
       "      <td>Look_on_the_upside</td>\n",
       "      <td>NaN</td>\n",
       "      <td>[]</td>\n",
       "      <td>NaN</td>\n",
       "      <td>text</td>\n",
       "      <td>t2_94hepx35</td>\n",
       "      <td>False</td>\n",
       "      <td>...</td>\n",
       "      <td>NaN</td>\n",
       "      <td>NaN</td>\n",
       "      <td>NaN</td>\n",
       "      <td>NaN</td>\n",
       "      <td>NaN</td>\n",
       "      <td>NaN</td>\n",
       "      <td>NaN</td>\n",
       "      <td>NaN</td>\n",
       "      <td>NaN</td>\n",
       "      <td>NaN</td>\n",
       "    </tr>\n",
       "  </tbody>\n",
       "</table>\n",
       "<p>2 rows × 81 columns</p>\n",
       "</div>"
      ],
      "text/plain": [
       "   Unnamed: 0 all_awardings  allow_live_comments                author  \\\n",
       "0           0            []                False  Holiday_Cheermeister   \n",
       "1           1            []                False    Look_on_the_upside   \n",
       "\n",
       "   author_flair_css_class author_flair_richtext author_flair_text  \\\n",
       "0                     NaN                    []               NaN   \n",
       "1                     NaN                    []               NaN   \n",
       "\n",
       "  author_flair_type author_fullname author_patreon_flair  ... media_metadata  \\\n",
       "0              text     t2_4lvbx013                False  ...            NaN   \n",
       "1              text     t2_94hepx35                False  ...            NaN   \n",
       "\n",
       "  author_flair_background_color  author_flair_text_color  author_cakeday  \\\n",
       "0                           NaN                      NaN             NaN   \n",
       "1                           NaN                      NaN             NaN   \n",
       "\n",
       "   edited banned_by poll_data author_flair_template_id crosspost_parent  \\\n",
       "0     NaN       NaN       NaN                      NaN              NaN   \n",
       "1     NaN       NaN       NaN                      NaN              NaN   \n",
       "\n",
       "   crosspost_parent_list  \n",
       "0                    NaN  \n",
       "1                    NaN  \n",
       "\n",
       "[2 rows x 81 columns]"
      ]
     },
     "execution_count": 195,
     "metadata": {},
     "output_type": "execute_result"
    }
   ],
   "source": [
    "astro = pd.read_csv('raw_astro.csv')\n",
    "astro.head(2)"
   ]
  },
  {
   "cell_type": "markdown",
   "metadata": {},
   "source": [
    "### Creating new Datasets"
   ]
  },
  {
   "cell_type": "code",
   "execution_count": 196,
   "metadata": {},
   "outputs": [
    {
     "data": {
      "text/html": [
       "<div>\n",
       "<style scoped>\n",
       "    .dataframe tbody tr th:only-of-type {\n",
       "        vertical-align: middle;\n",
       "    }\n",
       "\n",
       "    .dataframe tbody tr th {\n",
       "        vertical-align: top;\n",
       "    }\n",
       "\n",
       "    .dataframe thead th {\n",
       "        text-align: right;\n",
       "    }\n",
       "</style>\n",
       "<table border=\"1\" class=\"dataframe\">\n",
       "  <thead>\n",
       "    <tr style=\"text-align: right;\">\n",
       "      <th></th>\n",
       "      <th>subreddit</th>\n",
       "      <th>title</th>\n",
       "      <th>selftext</th>\n",
       "    </tr>\n",
       "  </thead>\n",
       "  <tbody>\n",
       "    <tr>\n",
       "      <th>0</th>\n",
       "      <td>Physics</td>\n",
       "      <td>OVNIS ? DISPAROS ANTIAÉREOS ESPAÑOLES ? UFOs? ...</td>\n",
       "      <td>NaN</td>\n",
       "    </tr>\n",
       "    <tr>\n",
       "      <th>1</th>\n",
       "      <td>Physics</td>\n",
       "      <td>My musings on the universe and gravity. Fans o...</td>\n",
       "      <td>NaN</td>\n",
       "    </tr>\n",
       "  </tbody>\n",
       "</table>\n",
       "</div>"
      ],
      "text/plain": [
       "  subreddit                                              title selftext\n",
       "0   Physics  OVNIS ? DISPAROS ANTIAÉREOS ESPAÑOLES ? UFOs? ...      NaN\n",
       "1   Physics  My musings on the universe and gravity. Fans o...      NaN"
      ]
     },
     "execution_count": 196,
     "metadata": {},
     "output_type": "execute_result"
    }
   ],
   "source": [
    "ph_temp = pd.DataFrame(phys[['subreddit', 'title', 'selftext']])\n",
    "ph_temp.head(2)"
   ]
  },
  {
   "cell_type": "code",
   "execution_count": 197,
   "metadata": {},
   "outputs": [
    {
     "data": {
      "text/html": [
       "<div>\n",
       "<style scoped>\n",
       "    .dataframe tbody tr th:only-of-type {\n",
       "        vertical-align: middle;\n",
       "    }\n",
       "\n",
       "    .dataframe tbody tr th {\n",
       "        vertical-align: top;\n",
       "    }\n",
       "\n",
       "    .dataframe thead th {\n",
       "        text-align: right;\n",
       "    }\n",
       "</style>\n",
       "<table border=\"1\" class=\"dataframe\">\n",
       "  <thead>\n",
       "    <tr style=\"text-align: right;\">\n",
       "      <th></th>\n",
       "      <th>subreddit</th>\n",
       "      <th>title</th>\n",
       "      <th>selftext</th>\n",
       "    </tr>\n",
       "  </thead>\n",
       "  <tbody>\n",
       "    <tr>\n",
       "      <th>0</th>\n",
       "      <td>Astronomy</td>\n",
       "      <td>This was bought off a lady for my kid sister, ...</td>\n",
       "      <td>NaN</td>\n",
       "    </tr>\n",
       "    <tr>\n",
       "      <th>1</th>\n",
       "      <td>Astronomy</td>\n",
       "      <td>Jupiter and one of it’s moons, Io</td>\n",
       "      <td>NaN</td>\n",
       "    </tr>\n",
       "  </tbody>\n",
       "</table>\n",
       "</div>"
      ],
      "text/plain": [
       "   subreddit                                              title selftext\n",
       "0  Astronomy  This was bought off a lady for my kid sister, ...      NaN\n",
       "1  Astronomy                  Jupiter and one of it’s moons, Io      NaN"
      ]
     },
     "execution_count": 197,
     "metadata": {},
     "output_type": "execute_result"
    }
   ],
   "source": [
    "ast_temp = pd.DataFrame(astro[['subreddit', 'title', 'selftext']])\n",
    "ast_temp.head(2)"
   ]
  },
  {
   "cell_type": "code",
   "execution_count": 198,
   "metadata": {},
   "outputs": [
    {
     "data": {
      "text/plain": [
       "subreddit       0\n",
       "title           0\n",
       "selftext     1982\n",
       "dtype: int64"
      ]
     },
     "execution_count": 198,
     "metadata": {},
     "output_type": "execute_result"
    }
   ],
   "source": [
    "ph_temp.isnull().sum()"
   ]
  },
  {
   "cell_type": "code",
   "execution_count": 199,
   "metadata": {},
   "outputs": [
    {
     "data": {
      "text/plain": [
       "subreddit       0\n",
       "title           0\n",
       "selftext     3488\n",
       "dtype: int64"
      ]
     },
     "execution_count": 199,
     "metadata": {},
     "output_type": "execute_result"
    }
   ],
   "source": [
    "ast_temp.isnull().sum()"
   ]
  },
  {
   "cell_type": "code",
   "execution_count": 200,
   "metadata": {},
   "outputs": [
    {
     "data": {
      "text/plain": [
       "(10000, 3)"
      ]
     },
     "execution_count": 200,
     "metadata": {},
     "output_type": "execute_result"
    }
   ],
   "source": [
    "full_df = ph_temp.append(ast_temp)\n",
    "full_df.shape"
   ]
  },
  {
   "cell_type": "markdown",
   "metadata": {},
   "source": [
    "### Cleaning the Dataset"
   ]
  },
  {
   "cell_type": "code",
   "execution_count": 201,
   "metadata": {},
   "outputs": [],
   "source": [
    "full_df['cleantext'] = ['' if text=='[removed]' else text for text in full_df['selftext']]"
   ]
  },
  {
   "cell_type": "code",
   "execution_count": 202,
   "metadata": {},
   "outputs": [],
   "source": [
    "full_df['cleantext'] = ['' if text=='[deleted]' else text for text in full_df['cleantext']]"
   ]
  },
  {
   "cell_type": "code",
   "execution_count": 203,
   "metadata": {},
   "outputs": [],
   "source": [
    "full_df['cleantext'] = full_df['cleantext'].fillna('')"
   ]
  },
  {
   "cell_type": "markdown",
   "metadata": {},
   "source": [
    "### Creating and Prepping for the X feature"
   ]
  },
  {
   "cell_type": "code",
   "execution_count": 204,
   "metadata": {},
   "outputs": [],
   "source": [
    "full_df['fulltext'] = full_df['title'] + full_df['cleantext']"
   ]
  },
  {
   "cell_type": "code",
   "execution_count": 205,
   "metadata": {},
   "outputs": [
    {
     "data": {
      "text/html": [
       "<div>\n",
       "<style scoped>\n",
       "    .dataframe tbody tr th:only-of-type {\n",
       "        vertical-align: middle;\n",
       "    }\n",
       "\n",
       "    .dataframe tbody tr th {\n",
       "        vertical-align: top;\n",
       "    }\n",
       "\n",
       "    .dataframe thead th {\n",
       "        text-align: right;\n",
       "    }\n",
       "</style>\n",
       "<table border=\"1\" class=\"dataframe\">\n",
       "  <thead>\n",
       "    <tr style=\"text-align: right;\">\n",
       "      <th></th>\n",
       "      <th>subreddit</th>\n",
       "      <th>title</th>\n",
       "      <th>selftext</th>\n",
       "      <th>cleantext</th>\n",
       "      <th>fulltext</th>\n",
       "    </tr>\n",
       "  </thead>\n",
       "  <tbody>\n",
       "    <tr>\n",
       "      <th>0</th>\n",
       "      <td>Physics</td>\n",
       "      <td>OVNIS ? DISPAROS ANTIAÉREOS ESPAÑOLES ? UFOs? ...</td>\n",
       "      <td>NaN</td>\n",
       "      <td></td>\n",
       "      <td>OVNIS ? DISPAROS ANTIAÉREOS ESPAÑOLES ? UFOs? ...</td>\n",
       "    </tr>\n",
       "    <tr>\n",
       "      <th>1</th>\n",
       "      <td>Physics</td>\n",
       "      <td>My musings on the universe and gravity. Fans o...</td>\n",
       "      <td>NaN</td>\n",
       "      <td></td>\n",
       "      <td>My musings on the universe and gravity. Fans o...</td>\n",
       "    </tr>\n",
       "    <tr>\n",
       "      <th>2</th>\n",
       "      <td>Physics</td>\n",
       "      <td>A summary of String Theory and how it can be u...</td>\n",
       "      <td>NaN</td>\n",
       "      <td></td>\n",
       "      <td>A summary of String Theory and how it can be u...</td>\n",
       "    </tr>\n",
       "    <tr>\n",
       "      <th>3</th>\n",
       "      <td>Physics</td>\n",
       "      <td>A question about physics! help</td>\n",
       "      <td>[removed]</td>\n",
       "      <td></td>\n",
       "      <td>A question about physics! help</td>\n",
       "    </tr>\n",
       "    <tr>\n",
       "      <th>4</th>\n",
       "      <td>Physics</td>\n",
       "      <td>Student Astrophysics Society!</td>\n",
       "      <td>[removed]</td>\n",
       "      <td></td>\n",
       "      <td>Student Astrophysics Society!</td>\n",
       "    </tr>\n",
       "  </tbody>\n",
       "</table>\n",
       "</div>"
      ],
      "text/plain": [
       "  subreddit                                              title   selftext  \\\n",
       "0   Physics  OVNIS ? DISPAROS ANTIAÉREOS ESPAÑOLES ? UFOs? ...        NaN   \n",
       "1   Physics  My musings on the universe and gravity. Fans o...        NaN   \n",
       "2   Physics  A summary of String Theory and how it can be u...        NaN   \n",
       "3   Physics                     A question about physics! help  [removed]   \n",
       "4   Physics                      Student Astrophysics Society!  [removed]   \n",
       "\n",
       "  cleantext                                           fulltext  \n",
       "0            OVNIS ? DISPAROS ANTIAÉREOS ESPAÑOLES ? UFOs? ...  \n",
       "1            My musings on the universe and gravity. Fans o...  \n",
       "2            A summary of String Theory and how it can be u...  \n",
       "3                               A question about physics! help  \n",
       "4                                Student Astrophysics Society!  "
      ]
     },
     "execution_count": 205,
     "metadata": {},
     "output_type": "execute_result"
    }
   ],
   "source": [
    "full_df.head()"
   ]
  },
  {
   "cell_type": "code",
   "execution_count": 206,
   "metadata": {},
   "outputs": [],
   "source": [
    "full_df['fulltext'] = [re.sub('https?://\\S+', 'url', str(fulltext)) for fulltext in full_df['fulltext']] # Aziz helped me with this"
   ]
  },
  {
   "cell_type": "code",
   "execution_count": 207,
   "metadata": {},
   "outputs": [],
   "source": [
    "full_df['fulltext'] = [re.sub('\\[.*?\\]', '', str(fulltext)) for fulltext in full_df['fulltext']] # Aziz helped me with this\n"
   ]
  },
  {
   "cell_type": "code",
   "execution_count": 208,
   "metadata": {},
   "outputs": [],
   "source": [
    "full_df['fulltext'] = [text.lower() for text in full_df['fulltext']]"
   ]
  },
  {
   "cell_type": "code",
   "execution_count": 209,
   "metadata": {},
   "outputs": [],
   "source": [
    "full_df['lentext'] = [len(text) for text in full_df['fulltext']]"
   ]
  },
  {
   "cell_type": "code",
   "execution_count": 210,
   "metadata": {},
   "outputs": [
    {
     "name": "stderr",
     "output_type": "stream",
     "text": [
      "/Users/aydinyanna/opt/anaconda3/lib/python3.8/site-packages/seaborn/distributions.py:2551: FutureWarning: `distplot` is a deprecated function and will be removed in a future version. Please adapt your code to use either `displot` (a figure-level function with similar flexibility) or `histplot` (an axes-level function for histograms).\n",
      "  warnings.warn(msg, FutureWarning)\n"
     ]
    },
    {
     "data": {
      "text/plain": [
       "<AxesSubplot:xlabel='lentext'>"
      ]
     },
     "execution_count": 210,
     "metadata": {},
     "output_type": "execute_result"
    },
    {
     "data": {
      "image/png": "[encoded data removed]",
      "text/plain": [
       "<Figure size 432x288 with 1 Axes>"
      ]
     },
     "metadata": {
      "needs_background": "light"
     },
     "output_type": "display_data"
    }
   ],
   "source": [
    "sns.distplot(np.log(full_df['lentext']), kde=False)"
   ]
  },
  {
   "cell_type": "code",
   "execution_count": 211,
   "metadata": {},
   "outputs": [
    {
     "data": {
      "text/html": [
       "<div>\n",
       "<style scoped>\n",
       "    .dataframe tbody tr th:only-of-type {\n",
       "        vertical-align: middle;\n",
       "    }\n",
       "\n",
       "    .dataframe tbody tr th {\n",
       "        vertical-align: top;\n",
       "    }\n",
       "\n",
       "    .dataframe thead th {\n",
       "        text-align: right;\n",
       "    }\n",
       "</style>\n",
       "<table border=\"1\" class=\"dataframe\">\n",
       "  <thead>\n",
       "    <tr style=\"text-align: right;\">\n",
       "      <th></th>\n",
       "      <th>subreddit</th>\n",
       "      <th>title</th>\n",
       "      <th>selftext</th>\n",
       "      <th>cleantext</th>\n",
       "      <th>fulltext</th>\n",
       "      <th>lentext</th>\n",
       "    </tr>\n",
       "  </thead>\n",
       "  <tbody>\n",
       "    <tr>\n",
       "      <th>50</th>\n",
       "      <td>Physics</td>\n",
       "      <td>🤯🤣😂</td>\n",
       "      <td>NaN</td>\n",
       "      <td></td>\n",
       "      <td>🤯🤣😂</td>\n",
       "      <td>3</td>\n",
       "    </tr>\n",
       "    <tr>\n",
       "      <th>836</th>\n",
       "      <td>Physics</td>\n",
       "      <td>Yes</td>\n",
       "      <td>[removed]</td>\n",
       "      <td></td>\n",
       "      <td>yes</td>\n",
       "      <td>3</td>\n",
       "    </tr>\n",
       "    <tr>\n",
       "      <th>1597</th>\n",
       "      <td>Physics</td>\n",
       "      <td>https://gf.me/u/y6rncs</td>\n",
       "      <td>[removed]</td>\n",
       "      <td></td>\n",
       "      <td>url</td>\n",
       "      <td>3</td>\n",
       "    </tr>\n",
       "    <tr>\n",
       "      <th>2015</th>\n",
       "      <td>Physics</td>\n",
       "      <td>X</td>\n",
       "      <td>[removed]</td>\n",
       "      <td></td>\n",
       "      <td>x</td>\n",
       "      <td>1</td>\n",
       "    </tr>\n",
       "    <tr>\n",
       "      <th>2854</th>\n",
       "      <td>Physics</td>\n",
       "      <td>https://youtu.be/8_wVOWJQfcU</td>\n",
       "      <td>NaN</td>\n",
       "      <td></td>\n",
       "      <td>url</td>\n",
       "      <td>3</td>\n",
       "    </tr>\n",
       "    <tr>\n",
       "      <th>3591</th>\n",
       "      <td>Physics</td>\n",
       "      <td>how</td>\n",
       "      <td>NaN</td>\n",
       "      <td></td>\n",
       "      <td>how</td>\n",
       "      <td>3</td>\n",
       "    </tr>\n",
       "    <tr>\n",
       "      <th>3741</th>\n",
       "      <td>Physics</td>\n",
       "      <td>https://filmi-beats.blogspot.com/2020/08/Haley...</td>\n",
       "      <td>NaN</td>\n",
       "      <td></td>\n",
       "      <td>url</td>\n",
       "      <td>3</td>\n",
       "    </tr>\n",
       "    <tr>\n",
       "      <th>3797</th>\n",
       "      <td>Physics</td>\n",
       "      <td>!!</td>\n",
       "      <td>NaN</td>\n",
       "      <td></td>\n",
       "      <td>!!</td>\n",
       "      <td>2</td>\n",
       "    </tr>\n",
       "    <tr>\n",
       "      <th>4059</th>\n",
       "      <td>Physics</td>\n",
       "      <td>https://www.reddit.com/user/Oneshotstudy/comme...</td>\n",
       "      <td>[removed]</td>\n",
       "      <td></td>\n",
       "      <td>url</td>\n",
       "      <td>3</td>\n",
       "    </tr>\n",
       "    <tr>\n",
       "      <th>4146</th>\n",
       "      <td>Physics</td>\n",
       "      <td>https://m.facebook.com/Easy-Explanations-11315...</td>\n",
       "      <td>NaN</td>\n",
       "      <td></td>\n",
       "      <td>url</td>\n",
       "      <td>3</td>\n",
       "    </tr>\n",
       "    <tr>\n",
       "      <th>384</th>\n",
       "      <td>Astronomy</td>\n",
       "      <td>Sun</td>\n",
       "      <td>NaN</td>\n",
       "      <td></td>\n",
       "      <td>sun</td>\n",
       "      <td>3</td>\n",
       "    </tr>\n",
       "    <tr>\n",
       "      <th>758</th>\n",
       "      <td>Astronomy</td>\n",
       "      <td>hy</td>\n",
       "      <td>[removed]</td>\n",
       "      <td></td>\n",
       "      <td>hy</td>\n",
       "      <td>2</td>\n",
       "    </tr>\n",
       "    <tr>\n",
       "      <th>789</th>\n",
       "      <td>Astronomy</td>\n",
       "      <td>https://bit.ly/2JC6fut</td>\n",
       "      <td>NaN</td>\n",
       "      <td></td>\n",
       "      <td>url</td>\n",
       "      <td>3</td>\n",
       "    </tr>\n",
       "    <tr>\n",
       "      <th>801</th>\n",
       "      <td>Astronomy</td>\n",
       "      <td>M33</td>\n",
       "      <td>NaN</td>\n",
       "      <td></td>\n",
       "      <td>m33</td>\n",
       "      <td>3</td>\n",
       "    </tr>\n",
       "    <tr>\n",
       "      <th>1041</th>\n",
       "      <td>Astronomy</td>\n",
       "      <td>m45</td>\n",
       "      <td>NaN</td>\n",
       "      <td></td>\n",
       "      <td>m45</td>\n",
       "      <td>3</td>\n",
       "    </tr>\n",
       "    <tr>\n",
       "      <th>1410</th>\n",
       "      <td>Astronomy</td>\n",
       "      <td>Ooi</td>\n",
       "      <td>[removed]</td>\n",
       "      <td></td>\n",
       "      <td>ooi</td>\n",
       "      <td>3</td>\n",
       "    </tr>\n",
       "    <tr>\n",
       "      <th>1555</th>\n",
       "      <td>Astronomy</td>\n",
       "      <td>https://drive.google.com/drive/folders/1S8fgBT...</td>\n",
       "      <td>NaN</td>\n",
       "      <td></td>\n",
       "      <td>url</td>\n",
       "      <td>3</td>\n",
       "    </tr>\n",
       "    <tr>\n",
       "      <th>2286</th>\n",
       "      <td>Astronomy</td>\n",
       "      <td>https://www.youtube.com/watch?v=vymd3wgaBL0</td>\n",
       "      <td>[removed]</td>\n",
       "      <td></td>\n",
       "      <td>url</td>\n",
       "      <td>3</td>\n",
       "    </tr>\n",
       "    <tr>\n",
       "      <th>2744</th>\n",
       "      <td>Astronomy</td>\n",
       "      <td>m57</td>\n",
       "      <td>NaN</td>\n",
       "      <td></td>\n",
       "      <td>m57</td>\n",
       "      <td>3</td>\n",
       "    </tr>\n",
       "    <tr>\n",
       "      <th>2985</th>\n",
       "      <td>Astronomy</td>\n",
       "      <td>Ih</td>\n",
       "      <td>[removed]</td>\n",
       "      <td></td>\n",
       "      <td>ih</td>\n",
       "      <td>2</td>\n",
       "    </tr>\n",
       "    <tr>\n",
       "      <th>3465</th>\n",
       "      <td>Astronomy</td>\n",
       "      <td>Art</td>\n",
       "      <td>[removed]</td>\n",
       "      <td></td>\n",
       "      <td>art</td>\n",
       "      <td>3</td>\n",
       "    </tr>\n",
       "    <tr>\n",
       "      <th>3706</th>\n",
       "      <td>Astronomy</td>\n",
       "      <td>🤣🤣</td>\n",
       "      <td>NaN</td>\n",
       "      <td></td>\n",
       "      <td>🤣🤣</td>\n",
       "      <td>2</td>\n",
       "    </tr>\n",
       "    <tr>\n",
       "      <th>4155</th>\n",
       "      <td>Astronomy</td>\n",
       "      <td>ufo</td>\n",
       "      <td>NaN</td>\n",
       "      <td></td>\n",
       "      <td>ufo</td>\n",
       "      <td>3</td>\n",
       "    </tr>\n",
       "    <tr>\n",
       "      <th>4605</th>\n",
       "      <td>Astronomy</td>\n",
       "      <td>C</td>\n",
       "      <td>NaN</td>\n",
       "      <td></td>\n",
       "      <td>c</td>\n",
       "      <td>1</td>\n",
       "    </tr>\n",
       "    <tr>\n",
       "      <th>4708</th>\n",
       "      <td>Astronomy</td>\n",
       "      <td>Jup</td>\n",
       "      <td>NaN</td>\n",
       "      <td></td>\n",
       "      <td>jup</td>\n",
       "      <td>3</td>\n",
       "    </tr>\n",
       "  </tbody>\n",
       "</table>\n",
       "</div>"
      ],
      "text/plain": [
       "      subreddit                                              title   selftext  \\\n",
       "50      Physics                                                🤯🤣😂        NaN   \n",
       "836     Physics                                                Yes  [removed]   \n",
       "1597    Physics                             https://gf.me/u/y6rncs  [removed]   \n",
       "2015    Physics                                                  X  [removed]   \n",
       "2854    Physics                       https://youtu.be/8_wVOWJQfcU        NaN   \n",
       "3591    Physics                                                how        NaN   \n",
       "3741    Physics  https://filmi-beats.blogspot.com/2020/08/Haley...        NaN   \n",
       "3797    Physics                                                 !!        NaN   \n",
       "4059    Physics  https://www.reddit.com/user/Oneshotstudy/comme...  [removed]   \n",
       "4146    Physics  https://m.facebook.com/Easy-Explanations-11315...        NaN   \n",
       "384   Astronomy                                                Sun        NaN   \n",
       "758   Astronomy                                                 hy  [removed]   \n",
       "789   Astronomy                             https://bit.ly/2JC6fut        NaN   \n",
       "801   Astronomy                                                M33        NaN   \n",
       "1041  Astronomy                                                m45        NaN   \n",
       "1410  Astronomy                                                Ooi  [removed]   \n",
       "1555  Astronomy  https://drive.google.com/drive/folders/1S8fgBT...        NaN   \n",
       "2286  Astronomy        https://www.youtube.com/watch?v=vymd3wgaBL0  [removed]   \n",
       "2744  Astronomy                                                m57        NaN   \n",
       "2985  Astronomy                                                 Ih  [removed]   \n",
       "3465  Astronomy                                                Art  [removed]   \n",
       "3706  Astronomy                                                 🤣🤣        NaN   \n",
       "4155  Astronomy                                                ufo        NaN   \n",
       "4605  Astronomy                                                  C        NaN   \n",
       "4708  Astronomy                                                Jup        NaN   \n",
       "\n",
       "     cleantext fulltext  lentext  \n",
       "50                  🤯🤣😂        3  \n",
       "836                 yes        3  \n",
       "1597                url        3  \n",
       "2015                  x        1  \n",
       "2854                url        3  \n",
       "3591                how        3  \n",
       "3741                url        3  \n",
       "3797                 !!        2  \n",
       "4059                url        3  \n",
       "4146                url        3  \n",
       "384                 sun        3  \n",
       "758                  hy        2  \n",
       "789                 url        3  \n",
       "801                 m33        3  \n",
       "1041                m45        3  \n",
       "1410                ooi        3  \n",
       "1555                url        3  \n",
       "2286                url        3  \n",
       "2744                m57        3  \n",
       "2985                 ih        2  \n",
       "3465                art        3  \n",
       "3706                 🤣🤣        2  \n",
       "4155                ufo        3  \n",
       "4605                  c        1  \n",
       "4708                jup        3  "
      ]
     },
     "execution_count": 211,
     "metadata": {},
     "output_type": "execute_result"
    }
   ],
   "source": [
    "full_df[full_df['lentext'] < 4]"
   ]
  },
  {
   "cell_type": "code",
   "execution_count": 212,
   "metadata": {},
   "outputs": [],
   "source": [
    "full_df = full_df[full_df['lentext'] > 3]"
   ]
  },
  {
   "cell_type": "code",
   "execution_count": 213,
   "metadata": {},
   "outputs": [
    {
     "data": {
      "text/plain": [
       "(9975, 6)"
      ]
     },
     "execution_count": 213,
     "metadata": {},
     "output_type": "execute_result"
    }
   ],
   "source": [
    "full_df.shape"
   ]
  },
  {
   "cell_type": "code",
   "execution_count": 214,
   "metadata": {},
   "outputs": [],
   "source": [
    "full_df = full_df.drop(full_df.index[0])"
   ]
  },
  {
   "cell_type": "markdown",
   "metadata": {},
   "source": [
    "### Creating the y feature"
   ]
  },
  {
   "cell_type": "code",
   "execution_count": 215,
   "metadata": {},
   "outputs": [],
   "source": [
    "full_df['y_var'] = [1 if subreddit == 'Physics' else 0 for subreddit in full_df['subreddit']]"
   ]
  },
  {
   "cell_type": "markdown",
   "metadata": {},
   "source": [
    "Baseline value: get the score above 50 percent"
   ]
  },
  {
   "cell_type": "code",
   "execution_count": 216,
   "metadata": {},
   "outputs": [
    {
     "data": {
      "text/plain": [
       "1    0.500251\n",
       "0    0.499749\n",
       "Name: y_var, dtype: float64"
      ]
     },
     "execution_count": 216,
     "metadata": {},
     "output_type": "execute_result"
    }
   ],
   "source": [
    "full_df['y_var'].value_counts(normalize=True)"
   ]
  },
  {
   "cell_type": "markdown",
   "metadata": {},
   "source": [
    "## Step 3: Data Preprocessing"
   ]
  },
  {
   "cell_type": "code",
   "execution_count": 217,
   "metadata": {},
   "outputs": [],
   "source": [
    "tokenizer = RegexpTokenizer('\\w+|\\$[\\d\\.]')"
   ]
  },
  {
   "cell_type": "code",
   "execution_count": 218,
   "metadata": {},
   "outputs": [],
   "source": [
    "full_df['proctext'] = [tokenizer.tokenize(text) for text in full_df['fulltext']]"
   ]
  },
  {
   "cell_type": "code",
   "execution_count": 220,
   "metadata": {},
   "outputs": [
    {
     "data": {
      "text/html": [
       "<div>\n",
       "<style scoped>\n",
       "    .dataframe tbody tr th:only-of-type {\n",
       "        vertical-align: middle;\n",
       "    }\n",
       "\n",
       "    .dataframe tbody tr th {\n",
       "        vertical-align: top;\n",
       "    }\n",
       "\n",
       "    .dataframe thead th {\n",
       "        text-align: right;\n",
       "    }\n",
       "</style>\n",
       "<table border=\"1\" class=\"dataframe\">\n",
       "  <thead>\n",
       "    <tr style=\"text-align: right;\">\n",
       "      <th></th>\n",
       "      <th>subreddit</th>\n",
       "      <th>title</th>\n",
       "      <th>selftext</th>\n",
       "      <th>cleantext</th>\n",
       "      <th>fulltext</th>\n",
       "      <th>lentext</th>\n",
       "      <th>y_var</th>\n",
       "      <th>proctext</th>\n",
       "    </tr>\n",
       "  </thead>\n",
       "  <tbody>\n",
       "    <tr>\n",
       "      <th>1</th>\n",
       "      <td>Physics</td>\n",
       "      <td>My musings on the universe and gravity. Fans o...</td>\n",
       "      <td>NaN</td>\n",
       "      <td></td>\n",
       "      <td>my musings on the universe and gravity. fans o...</td>\n",
       "      <td>77</td>\n",
       "      <td>1</td>\n",
       "      <td>[my, musings, on, the, universe, and, gravity,...</td>\n",
       "    </tr>\n",
       "    <tr>\n",
       "      <th>2</th>\n",
       "      <td>Physics</td>\n",
       "      <td>A summary of String Theory and how it can be u...</td>\n",
       "      <td>NaN</td>\n",
       "      <td></td>\n",
       "      <td>a summary of string theory and how it can be u...</td>\n",
       "      <td>51</td>\n",
       "      <td>1</td>\n",
       "      <td>[a, summary, of, string, theory, and, how, it,...</td>\n",
       "    </tr>\n",
       "    <tr>\n",
       "      <th>3</th>\n",
       "      <td>Physics</td>\n",
       "      <td>A question about physics! help</td>\n",
       "      <td>[removed]</td>\n",
       "      <td></td>\n",
       "      <td>a question about physics! help</td>\n",
       "      <td>30</td>\n",
       "      <td>1</td>\n",
       "      <td>[a, question, about, physics, help]</td>\n",
       "    </tr>\n",
       "    <tr>\n",
       "      <th>4</th>\n",
       "      <td>Physics</td>\n",
       "      <td>Student Astrophysics Society!</td>\n",
       "      <td>[removed]</td>\n",
       "      <td></td>\n",
       "      <td>student astrophysics society!</td>\n",
       "      <td>29</td>\n",
       "      <td>1</td>\n",
       "      <td>[student, astrophysics, society]</td>\n",
       "    </tr>\n",
       "    <tr>\n",
       "      <th>5</th>\n",
       "      <td>Physics</td>\n",
       "      <td>Student ASTROPHYSICS Society!!!</td>\n",
       "      <td>[removed]</td>\n",
       "      <td></td>\n",
       "      <td>student astrophysics society!!!</td>\n",
       "      <td>31</td>\n",
       "      <td>1</td>\n",
       "      <td>[student, astrophysics, society]</td>\n",
       "    </tr>\n",
       "  </tbody>\n",
       "</table>\n",
       "</div>"
      ],
      "text/plain": [
       "  subreddit                                              title   selftext  \\\n",
       "1   Physics  My musings on the universe and gravity. Fans o...        NaN   \n",
       "2   Physics  A summary of String Theory and how it can be u...        NaN   \n",
       "3   Physics                     A question about physics! help  [removed]   \n",
       "4   Physics                      Student Astrophysics Society!  [removed]   \n",
       "5   Physics                    Student ASTROPHYSICS Society!!!  [removed]   \n",
       "\n",
       "  cleantext                                           fulltext  lentext  \\\n",
       "1            my musings on the universe and gravity. fans o...       77   \n",
       "2            a summary of string theory and how it can be u...       51   \n",
       "3                               a question about physics! help       30   \n",
       "4                                student astrophysics society!       29   \n",
       "5                              student astrophysics society!!!       31   \n",
       "\n",
       "   y_var                                           proctext  \n",
       "1      1  [my, musings, on, the, universe, and, gravity,...  \n",
       "2      1  [a, summary, of, string, theory, and, how, it,...  \n",
       "3      1                [a, question, about, physics, help]  \n",
       "4      1                   [student, astrophysics, society]  \n",
       "5      1                   [student, astrophysics, society]  "
      ]
     },
     "execution_count": 220,
     "metadata": {},
     "output_type": "execute_result"
    }
   ],
   "source": [
    "full_df.head()"
   ]
  },
  {
   "cell_type": "code",
   "execution_count": 221,
   "metadata": {},
   "outputs": [],
   "source": [
    "lemmatizer = WordNetLemmatizer()"
   ]
  },
  {
   "cell_type": "code",
   "execution_count": 231,
   "metadata": {},
   "outputs": [],
   "source": [
    "full_df['lemmtext'] = [[lemmatizer.lemmatize(word) for word in text] for text in full_df['proctext']]"
   ]
  },
  {
   "cell_type": "markdown",
   "metadata": {},
   "source": [
    "### Create the X feature"
   ]
  },
  {
   "cell_type": "code",
   "execution_count": 233,
   "metadata": {},
   "outputs": [],
   "source": [
    "full_df['x_var'] = [' '.join(words) for words in full_df['lemmtext']]"
   ]
  },
  {
   "cell_type": "code",
   "execution_count": 234,
   "metadata": {},
   "outputs": [
    {
     "data": {
      "text/html": [
       "<div>\n",
       "<style scoped>\n",
       "    .dataframe tbody tr th:only-of-type {\n",
       "        vertical-align: middle;\n",
       "    }\n",
       "\n",
       "    .dataframe tbody tr th {\n",
       "        vertical-align: top;\n",
       "    }\n",
       "\n",
       "    .dataframe thead th {\n",
       "        text-align: right;\n",
       "    }\n",
       "</style>\n",
       "<table border=\"1\" class=\"dataframe\">\n",
       "  <thead>\n",
       "    <tr style=\"text-align: right;\">\n",
       "      <th></th>\n",
       "      <th>subreddit</th>\n",
       "      <th>title</th>\n",
       "      <th>selftext</th>\n",
       "      <th>cleantext</th>\n",
       "      <th>fulltext</th>\n",
       "      <th>lentext</th>\n",
       "      <th>y_var</th>\n",
       "      <th>proctext</th>\n",
       "      <th>lemmtext</th>\n",
       "      <th>x_var</th>\n",
       "    </tr>\n",
       "  </thead>\n",
       "  <tbody>\n",
       "    <tr>\n",
       "      <th>1</th>\n",
       "      <td>Physics</td>\n",
       "      <td>My musings on the universe and gravity. Fans o...</td>\n",
       "      <td>NaN</td>\n",
       "      <td></td>\n",
       "      <td>my musings on the universe and gravity. fans o...</td>\n",
       "      <td>77</td>\n",
       "      <td>1</td>\n",
       "      <td>[my, musings, on, the, universe, and, gravity,...</td>\n",
       "      <td>[my, musing, on, the, universe, and, gravity, ...</td>\n",
       "      <td>my musing on the universe and gravity fan of p...</td>\n",
       "    </tr>\n",
       "    <tr>\n",
       "      <th>2</th>\n",
       "      <td>Physics</td>\n",
       "      <td>A summary of String Theory and how it can be u...</td>\n",
       "      <td>NaN</td>\n",
       "      <td></td>\n",
       "      <td>a summary of string theory and how it can be u...</td>\n",
       "      <td>51</td>\n",
       "      <td>1</td>\n",
       "      <td>[a, summary, of, string, theory, and, how, it,...</td>\n",
       "      <td>[a, summary, of, string, theory, and, how, it,...</td>\n",
       "      <td>a summary of string theory and how it can be u...</td>\n",
       "    </tr>\n",
       "    <tr>\n",
       "      <th>3</th>\n",
       "      <td>Physics</td>\n",
       "      <td>A question about physics! help</td>\n",
       "      <td>[removed]</td>\n",
       "      <td></td>\n",
       "      <td>a question about physics! help</td>\n",
       "      <td>30</td>\n",
       "      <td>1</td>\n",
       "      <td>[a, question, about, physics, help]</td>\n",
       "      <td>[a, question, about, physic, help]</td>\n",
       "      <td>a question about physic help</td>\n",
       "    </tr>\n",
       "    <tr>\n",
       "      <th>4</th>\n",
       "      <td>Physics</td>\n",
       "      <td>Student Astrophysics Society!</td>\n",
       "      <td>[removed]</td>\n",
       "      <td></td>\n",
       "      <td>student astrophysics society!</td>\n",
       "      <td>29</td>\n",
       "      <td>1</td>\n",
       "      <td>[student, astrophysics, society]</td>\n",
       "      <td>[student, astrophysics, society]</td>\n",
       "      <td>student astrophysics society</td>\n",
       "    </tr>\n",
       "    <tr>\n",
       "      <th>5</th>\n",
       "      <td>Physics</td>\n",
       "      <td>Student ASTROPHYSICS Society!!!</td>\n",
       "      <td>[removed]</td>\n",
       "      <td></td>\n",
       "      <td>student astrophysics society!!!</td>\n",
       "      <td>31</td>\n",
       "      <td>1</td>\n",
       "      <td>[student, astrophysics, society]</td>\n",
       "      <td>[student, astrophysics, society]</td>\n",
       "      <td>student astrophysics society</td>\n",
       "    </tr>\n",
       "  </tbody>\n",
       "</table>\n",
       "</div>"
      ],
      "text/plain": [
       "  subreddit                                              title   selftext  \\\n",
       "1   Physics  My musings on the universe and gravity. Fans o...        NaN   \n",
       "2   Physics  A summary of String Theory and how it can be u...        NaN   \n",
       "3   Physics                     A question about physics! help  [removed]   \n",
       "4   Physics                      Student Astrophysics Society!  [removed]   \n",
       "5   Physics                    Student ASTROPHYSICS Society!!!  [removed]   \n",
       "\n",
       "  cleantext                                           fulltext  lentext  \\\n",
       "1            my musings on the universe and gravity. fans o...       77   \n",
       "2            a summary of string theory and how it can be u...       51   \n",
       "3                               a question about physics! help       30   \n",
       "4                                student astrophysics society!       29   \n",
       "5                              student astrophysics society!!!       31   \n",
       "\n",
       "   y_var                                           proctext  \\\n",
       "1      1  [my, musings, on, the, universe, and, gravity,...   \n",
       "2      1  [a, summary, of, string, theory, and, how, it,...   \n",
       "3      1                [a, question, about, physics, help]   \n",
       "4      1                   [student, astrophysics, society]   \n",
       "5      1                   [student, astrophysics, society]   \n",
       "\n",
       "                                            lemmtext  \\\n",
       "1  [my, musing, on, the, universe, and, gravity, ...   \n",
       "2  [a, summary, of, string, theory, and, how, it,...   \n",
       "3                 [a, question, about, physic, help]   \n",
       "4                   [student, astrophysics, society]   \n",
       "5                   [student, astrophysics, society]   \n",
       "\n",
       "                                               x_var  \n",
       "1  my musing on the universe and gravity fan of p...  \n",
       "2  a summary of string theory and how it can be u...  \n",
       "3                       a question about physic help  \n",
       "4                       student astrophysics society  \n",
       "5                       student astrophysics society  "
      ]
     },
     "execution_count": 234,
     "metadata": {},
     "output_type": "execute_result"
    }
   ],
   "source": [
    "full_df.head()"
   ]
  },
  {
   "cell_type": "markdown",
   "metadata": {},
   "source": [
    "## Step 4: The Final Dataset"
   ]
  },
  {
   "cell_type": "code",
   "execution_count": 236,
   "metadata": {},
   "outputs": [
    {
     "data": {
      "text/html": [
       "<div>\n",
       "<style scoped>\n",
       "    .dataframe tbody tr th:only-of-type {\n",
       "        vertical-align: middle;\n",
       "    }\n",
       "\n",
       "    .dataframe tbody tr th {\n",
       "        vertical-align: top;\n",
       "    }\n",
       "\n",
       "    .dataframe thead th {\n",
       "        text-align: right;\n",
       "    }\n",
       "</style>\n",
       "<table border=\"1\" class=\"dataframe\">\n",
       "  <thead>\n",
       "    <tr style=\"text-align: right;\">\n",
       "      <th></th>\n",
       "      <th>x_var</th>\n",
       "      <th>y_var</th>\n",
       "    </tr>\n",
       "  </thead>\n",
       "  <tbody>\n",
       "    <tr>\n",
       "      <th>1</th>\n",
       "      <td>my musing on the universe and gravity fan of p...</td>\n",
       "      <td>1</td>\n",
       "    </tr>\n",
       "    <tr>\n",
       "      <th>2</th>\n",
       "      <td>a summary of string theory and how it can be u...</td>\n",
       "      <td>1</td>\n",
       "    </tr>\n",
       "    <tr>\n",
       "      <th>3</th>\n",
       "      <td>a question about physic help</td>\n",
       "      <td>1</td>\n",
       "    </tr>\n",
       "    <tr>\n",
       "      <th>4</th>\n",
       "      <td>student astrophysics society</td>\n",
       "      <td>1</td>\n",
       "    </tr>\n",
       "    <tr>\n",
       "      <th>5</th>\n",
       "      <td>student astrophysics society</td>\n",
       "      <td>1</td>\n",
       "    </tr>\n",
       "  </tbody>\n",
       "</table>\n",
       "</div>"
      ],
      "text/plain": [
       "                                               x_var  y_var\n",
       "1  my musing on the universe and gravity fan of p...      1\n",
       "2  a summary of string theory and how it can be u...      1\n",
       "3                       a question about physic help      1\n",
       "4                       student astrophysics society      1\n",
       "5                       student astrophysics society      1"
      ]
     },
     "execution_count": 236,
     "metadata": {},
     "output_type": "execute_result"
    }
   ],
   "source": [
    "final_df = full_df[['x_var', 'y_var']]\n",
    "final_df.head()"
   ]
  },
  {
   "cell_type": "markdown",
   "metadata": {},
   "source": [
    "## Step 5: Modelling"
   ]
  },
  {
   "cell_type": "markdown",
   "metadata": {},
   "source": [
    "### Train-Test-Split"
   ]
  },
  {
   "cell_type": "code",
   "execution_count": 238,
   "metadata": {},
   "outputs": [],
   "source": [
    "X_train, X_test, y_train, y_test = train_test_split(X, y, test_size=0.3, stratify=y)"
   ]
  },
  {
   "cell_type": "code",
   "execution_count": 239,
   "metadata": {},
   "outputs": [
    {
     "data": {
      "text/plain": [
       "[1000, 3000, 5000, 7000, 9000]"
      ]
     },
     "execution_count": 239,
     "metadata": {},
     "output_type": "execute_result"
    }
   ],
   "source": [
    "list(range(1000, 10000, 2000))"
   ]
  },
  {
   "cell_type": "code",
   "execution_count": 242,
   "metadata": {},
   "outputs": [],
   "source": [
    "count = 0\n",
    "model_params = {}"
   ]
  },
  {
   "cell_type": "markdown",
   "metadata": {},
   "source": [
    "### Model 1: CountVectorizer and MultinomialNB"
   ]
  },
  {
   "cell_type": "code",
   "execution_count": 244,
   "metadata": {},
   "outputs": [
    {
     "name": "stdout",
     "output_type": "stream",
     "text": [
      "Fitting 5 folds for each of 160 candidates, totalling 800 fits\n"
     ]
    },
    {
     "name": "stderr",
     "output_type": "stream",
     "text": [
      "[Parallel(n_jobs=4)]: Using backend LokyBackend with 4 concurrent workers.\n",
      "[Parallel(n_jobs=4)]: Done  42 tasks      | elapsed:    4.6s\n",
      "[Parallel(n_jobs=4)]: Done 192 tasks      | elapsed:   13.5s\n",
      "[Parallel(n_jobs=4)]: Done 442 tasks      | elapsed:   29.9s\n",
      "[Parallel(n_jobs=4)]: Done 792 tasks      | elapsed:   55.4s\n",
      "[Parallel(n_jobs=4)]: Done 800 out of 800 | elapsed:   56.0s finished\n"
     ]
    }
   ],
   "source": [
    "cvec_nb_pipe = Pipeline([\n",
    "    ('cvec', CountVectorizer()),\n",
    "    ('nb', MultinomialNB())\n",
    "])\n",
    "\n",
    "cvec_nb_params = {\n",
    "    'cvec__max_features' : range(1000, 10000, 2000),\n",
    "    'cvec__min_df' : [.1, .2, .3, .4],\n",
    "    'cvec__max_df' : [.96, .97, .98, .99],\n",
    "    'cvec__ngram_range' : [(1,2), (2,2)]\n",
    "}\n",
    "\n",
    "cvec_nb_gs = GridSearchCV(cvec_nb_pipe, \n",
    "                  param_grid=cvec_nb_params, \n",
    "                  cv=5, \n",
    "                  n_jobs=4, \n",
    "                  verbose=1)\n",
    "\n",
    "cvec_nb_gs.fit(X_train, y_train)\n",
    "\n",
    "count += 1\n",
    "\n",
    "cvec_nb_gs.best_params_['score'] = cvec_nb_gs.best_score_\n",
    "model_params[f'model_{count}'] = cvec_nb_gs.best_params_\n",
    "\n",
    "model_df = pd.DataFrame.from_dict(model_params, orient='index')"
   ]
  },
  {
   "cell_type": "code",
   "execution_count": 245,
   "metadata": {},
   "outputs": [
    {
     "data": {
      "text/html": [
       "<div>\n",
       "<style scoped>\n",
       "    .dataframe tbody tr th:only-of-type {\n",
       "        vertical-align: middle;\n",
       "    }\n",
       "\n",
       "    .dataframe tbody tr th {\n",
       "        vertical-align: top;\n",
       "    }\n",
       "\n",
       "    .dataframe thead th {\n",
       "        text-align: right;\n",
       "    }\n",
       "</style>\n",
       "<table border=\"1\" class=\"dataframe\">\n",
       "  <thead>\n",
       "    <tr style=\"text-align: right;\">\n",
       "      <th></th>\n",
       "      <th>cvec__max_df</th>\n",
       "      <th>cvec__max_features</th>\n",
       "      <th>cvec__min_df</th>\n",
       "      <th>cvec__ngram_range</th>\n",
       "      <th>score</th>\n",
       "    </tr>\n",
       "  </thead>\n",
       "  <tbody>\n",
       "    <tr>\n",
       "      <th>model_1</th>\n",
       "      <td>0.96</td>\n",
       "      <td>1000</td>\n",
       "      <td>0.1</td>\n",
       "      <td>(1, 2)</td>\n",
       "      <td>0.552571</td>\n",
       "    </tr>\n",
       "  </tbody>\n",
       "</table>\n",
       "</div>"
      ],
      "text/plain": [
       "         cvec__max_df  cvec__max_features  cvec__min_df cvec__ngram_range  \\\n",
       "model_1          0.96                1000           0.1            (1, 2)   \n",
       "\n",
       "            score  \n",
       "model_1  0.552571  "
      ]
     },
     "execution_count": 245,
     "metadata": {},
     "output_type": "execute_result"
    }
   ],
   "source": [
    "model_df"
   ]
  },
  {
   "cell_type": "code",
   "execution_count": 263,
   "metadata": {},
   "outputs": [
    {
     "name": "stdout",
     "output_type": "stream",
     "text": [
      "Fitting 5 folds for each of 48 candidates, totalling 240 fits\n"
     ]
    },
    {
     "name": "stderr",
     "output_type": "stream",
     "text": [
      "[Parallel(n_jobs=4)]: Using backend LokyBackend with 4 concurrent workers.\n",
      "[Parallel(n_jobs=4)]: Done  42 tasks      | elapsed:   14.9s\n",
      "[Parallel(n_jobs=4)]: Done 192 tasks      | elapsed:   26.5s\n",
      "[Parallel(n_jobs=4)]: Done 240 out of 240 | elapsed:   29.7s finished\n"
     ]
    }
   ],
   "source": [
    "cvec_nb_pipe = Pipeline([\n",
    "    ('cvec', CountVectorizer()),\n",
    "    ('nb', MultinomialNB())\n",
    "])\n",
    "\n",
    "cvec_nb_params = {\n",
    "    'cvec__max_features' : range(500, 2000, 500),\n",
    "    'cvec__min_df' : [0, 0.1],\n",
    "    'cvec__max_df' : [0.93, 0.94, 0.95, .96],\n",
    "    'cvec__ngram_range' : [(1,1), (1,2)]\n",
    "}\n",
    "\n",
    "cvec_nb_gs = GridSearchCV(cvec_nb_pipe, \n",
    "                  param_grid=cvec_nb_params, \n",
    "                  cv=5, \n",
    "                  n_jobs=4, \n",
    "                  verbose=1)\n",
    "\n",
    "cvec_nb_gs.fit(X_train, y_train)\n",
    "\n",
    "count += 1\n",
    "\n",
    "cvec_nb_gs.best_params_['score'] = cvec_nb_gs.best_score_\n",
    "model_params[f'model_{count}'] = cvec_nb_gs.best_params_\n",
    "\n",
    "model_df = pd.DataFrame.from_dict(model_params, orient='index')"
   ]
  },
  {
   "cell_type": "code",
   "execution_count": 264,
   "metadata": {},
   "outputs": [
    {
     "data": {
      "text/html": [
       "<div>\n",
       "<style scoped>\n",
       "    .dataframe tbody tr th:only-of-type {\n",
       "        vertical-align: middle;\n",
       "    }\n",
       "\n",
       "    .dataframe tbody tr th {\n",
       "        vertical-align: top;\n",
       "    }\n",
       "\n",
       "    .dataframe thead th {\n",
       "        text-align: right;\n",
       "    }\n",
       "</style>\n",
       "<table border=\"1\" class=\"dataframe\">\n",
       "  <thead>\n",
       "    <tr style=\"text-align: right;\">\n",
       "      <th></th>\n",
       "      <th>cvec__max_df</th>\n",
       "      <th>cvec__max_features</th>\n",
       "      <th>cvec__min_df</th>\n",
       "      <th>cvec__ngram_range</th>\n",
       "      <th>score</th>\n",
       "      <th>tf__max_df</th>\n",
       "      <th>tf__max_features</th>\n",
       "      <th>tf__min_df</th>\n",
       "      <th>tf__ngram_range</th>\n",
       "      <th>rf__ccp_alpha</th>\n",
       "      <th>rf__max_depth</th>\n",
       "      <th>rf__n_estimators</th>\n",
       "    </tr>\n",
       "  </thead>\n",
       "  <tbody>\n",
       "    <tr>\n",
       "      <th>model_1</th>\n",
       "      <td>0.96</td>\n",
       "      <td>1000.0</td>\n",
       "      <td>0.1</td>\n",
       "      <td>(1, 2)</td>\n",
       "      <td>0.552571</td>\n",
       "      <td>NaN</td>\n",
       "      <td>NaN</td>\n",
       "      <td>NaN</td>\n",
       "      <td>NaN</td>\n",
       "      <td>NaN</td>\n",
       "      <td>NaN</td>\n",
       "      <td>NaN</td>\n",
       "    </tr>\n",
       "    <tr>\n",
       "      <th>model_2</th>\n",
       "      <td>0.93</td>\n",
       "      <td>1500.0</td>\n",
       "      <td>0.0</td>\n",
       "      <td>(1, 1)</td>\n",
       "      <td>0.865286</td>\n",
       "      <td>NaN</td>\n",
       "      <td>NaN</td>\n",
       "      <td>NaN</td>\n",
       "      <td>NaN</td>\n",
       "      <td>NaN</td>\n",
       "      <td>NaN</td>\n",
       "      <td>NaN</td>\n",
       "    </tr>\n",
       "    <tr>\n",
       "      <th>model_5</th>\n",
       "      <td>0.94</td>\n",
       "      <td>1500.0</td>\n",
       "      <td>0.0</td>\n",
       "      <td>(1, 1)</td>\n",
       "      <td>0.856143</td>\n",
       "      <td>NaN</td>\n",
       "      <td>NaN</td>\n",
       "      <td>NaN</td>\n",
       "      <td>NaN</td>\n",
       "      <td>0.0001</td>\n",
       "      <td>NaN</td>\n",
       "      <td>100.0</td>\n",
       "    </tr>\n",
       "    <tr>\n",
       "      <th>model_6</th>\n",
       "      <td>0.94</td>\n",
       "      <td>2500.0</td>\n",
       "      <td>0.0</td>\n",
       "      <td>(1, 1)</td>\n",
       "      <td>0.857571</td>\n",
       "      <td>NaN</td>\n",
       "      <td>NaN</td>\n",
       "      <td>NaN</td>\n",
       "      <td>NaN</td>\n",
       "      <td>0.0001</td>\n",
       "      <td>NaN</td>\n",
       "      <td>90.0</td>\n",
       "    </tr>\n",
       "    <tr>\n",
       "      <th>model_7</th>\n",
       "      <td>0.93</td>\n",
       "      <td>1500.0</td>\n",
       "      <td>0.0</td>\n",
       "      <td>(1, 1)</td>\n",
       "      <td>0.865286</td>\n",
       "      <td>NaN</td>\n",
       "      <td>NaN</td>\n",
       "      <td>NaN</td>\n",
       "      <td>NaN</td>\n",
       "      <td>NaN</td>\n",
       "      <td>NaN</td>\n",
       "      <td>NaN</td>\n",
       "    </tr>\n",
       "    <tr>\n",
       "      <th>model_3</th>\n",
       "      <td>NaN</td>\n",
       "      <td>NaN</td>\n",
       "      <td>NaN</td>\n",
       "      <td>NaN</td>\n",
       "      <td>0.552857</td>\n",
       "      <td>0.96</td>\n",
       "      <td>1000.0</td>\n",
       "      <td>0.1</td>\n",
       "      <td>(1, 2)</td>\n",
       "      <td>NaN</td>\n",
       "      <td>NaN</td>\n",
       "      <td>NaN</td>\n",
       "    </tr>\n",
       "    <tr>\n",
       "      <th>model_4</th>\n",
       "      <td>NaN</td>\n",
       "      <td>NaN</td>\n",
       "      <td>NaN</td>\n",
       "      <td>NaN</td>\n",
       "      <td>0.865000</td>\n",
       "      <td>0.93</td>\n",
       "      <td>1500.0</td>\n",
       "      <td>0.0</td>\n",
       "      <td>(1, 1)</td>\n",
       "      <td>NaN</td>\n",
       "      <td>NaN</td>\n",
       "      <td>NaN</td>\n",
       "    </tr>\n",
       "  </tbody>\n",
       "</table>\n",
       "</div>"
      ],
      "text/plain": [
       "         cvec__max_df  cvec__max_features  cvec__min_df cvec__ngram_range  \\\n",
       "model_1          0.96              1000.0           0.1            (1, 2)   \n",
       "model_2          0.93              1500.0           0.0            (1, 1)   \n",
       "model_5          0.94              1500.0           0.0            (1, 1)   \n",
       "model_6          0.94              2500.0           0.0            (1, 1)   \n",
       "model_7          0.93              1500.0           0.0            (1, 1)   \n",
       "model_3           NaN                 NaN           NaN               NaN   \n",
       "model_4           NaN                 NaN           NaN               NaN   \n",
       "\n",
       "            score  tf__max_df  tf__max_features  tf__min_df tf__ngram_range  \\\n",
       "model_1  0.552571         NaN               NaN         NaN             NaN   \n",
       "model_2  0.865286         NaN               NaN         NaN             NaN   \n",
       "model_5  0.856143         NaN               NaN         NaN             NaN   \n",
       "model_6  0.857571         NaN               NaN         NaN             NaN   \n",
       "model_7  0.865286         NaN               NaN         NaN             NaN   \n",
       "model_3  0.552857        0.96            1000.0         0.1          (1, 2)   \n",
       "model_4  0.865000        0.93            1500.0         0.0          (1, 1)   \n",
       "\n",
       "         rf__ccp_alpha  rf__max_depth  rf__n_estimators  \n",
       "model_1            NaN            NaN               NaN  \n",
       "model_2            NaN            NaN               NaN  \n",
       "model_5         0.0001            NaN             100.0  \n",
       "model_6         0.0001            NaN              90.0  \n",
       "model_7            NaN            NaN               NaN  \n",
       "model_3            NaN            NaN               NaN  \n",
       "model_4            NaN            NaN               NaN  "
      ]
     },
     "execution_count": 264,
     "metadata": {},
     "output_type": "execute_result"
    }
   ],
   "source": [
    "model_df"
   ]
  },
  {
   "cell_type": "code",
   "execution_count": 265,
   "metadata": {},
   "outputs": [
    {
     "data": {
      "text/plain": [
       "0.8696666666666667"
      ]
     },
     "execution_count": 265,
     "metadata": {},
     "output_type": "execute_result"
    }
   ],
   "source": [
    "cvec_nb_gs.score(X_test, y_test) # For Model 1 (model 2 & 7 in the table)"
   ]
  },
  {
   "cell_type": "markdown",
   "metadata": {},
   "source": [
    "### Model 2: TF-IDFVectorizer and PolynomialNB"
   ]
  },
  {
   "cell_type": "code",
   "execution_count": 252,
   "metadata": {},
   "outputs": [
    {
     "name": "stdout",
     "output_type": "stream",
     "text": [
      "Fitting 5 folds for each of 160 candidates, totalling 800 fits\n"
     ]
    },
    {
     "name": "stderr",
     "output_type": "stream",
     "text": [
      "[Parallel(n_jobs=4)]: Using backend LokyBackend with 4 concurrent workers.\n",
      "[Parallel(n_jobs=4)]: Done  42 tasks      | elapsed:    5.8s\n",
      "[Parallel(n_jobs=4)]: Done 192 tasks      | elapsed:   15.4s\n",
      "[Parallel(n_jobs=4)]: Done 442 tasks      | elapsed:   29.8s\n",
      "[Parallel(n_jobs=4)]: Done 792 tasks      | elapsed:   52.4s\n",
      "[Parallel(n_jobs=4)]: Done 800 out of 800 | elapsed:   52.8s finished\n"
     ]
    }
   ],
   "source": [
    "tf_nb_pipe = Pipeline([\n",
    "    ('tf', TfidfVectorizer()),\n",
    "    ('nb', MultinomialNB())\n",
    "])\n",
    "\n",
    "tf_nb_params = {\n",
    "    'tf__max_features' : range(1000, 10000, 2000),\n",
    "    'tf__min_df' : [.1, .2, .3, .4],\n",
    "    'tf__max_df' : [.96, .97, .98, .99],\n",
    "    'tf__ngram_range' : [(1,2), (2,2)]\n",
    "}\n",
    "\n",
    "tf_nb_gs = GridSearchCV(tf_nb_pipe, \n",
    "                  param_grid=tf_nb_params, \n",
    "                  cv=5, \n",
    "                  n_jobs=4, \n",
    "                  verbose=1)\n",
    "\n",
    "tf_nb_gs.fit(X_train, y_train)\n",
    "\n",
    "count += 1\n",
    "\n",
    "tf_nb_gs.best_params_['score'] = tf_nb_gs.best_score_\n",
    "model_params[f'model_{count}'] = tf_nb_gs.best_params_\n",
    "\n",
    "model_df = pd.DataFrame.from_dict(model_params, orient='index')"
   ]
  },
  {
   "cell_type": "code",
   "execution_count": 253,
   "metadata": {},
   "outputs": [
    {
     "data": {
      "text/html": [
       "<div>\n",
       "<style scoped>\n",
       "    .dataframe tbody tr th:only-of-type {\n",
       "        vertical-align: middle;\n",
       "    }\n",
       "\n",
       "    .dataframe tbody tr th {\n",
       "        vertical-align: top;\n",
       "    }\n",
       "\n",
       "    .dataframe thead th {\n",
       "        text-align: right;\n",
       "    }\n",
       "</style>\n",
       "<table border=\"1\" class=\"dataframe\">\n",
       "  <thead>\n",
       "    <tr style=\"text-align: right;\">\n",
       "      <th></th>\n",
       "      <th>cvec__max_df</th>\n",
       "      <th>cvec__max_features</th>\n",
       "      <th>cvec__min_df</th>\n",
       "      <th>cvec__ngram_range</th>\n",
       "      <th>score</th>\n",
       "      <th>tf__max_df</th>\n",
       "      <th>tf__max_features</th>\n",
       "      <th>tf__min_df</th>\n",
       "      <th>tf__ngram_range</th>\n",
       "    </tr>\n",
       "  </thead>\n",
       "  <tbody>\n",
       "    <tr>\n",
       "      <th>model_1</th>\n",
       "      <td>0.96</td>\n",
       "      <td>1000.0</td>\n",
       "      <td>0.1</td>\n",
       "      <td>(1, 2)</td>\n",
       "      <td>0.552571</td>\n",
       "      <td>NaN</td>\n",
       "      <td>NaN</td>\n",
       "      <td>NaN</td>\n",
       "      <td>NaN</td>\n",
       "    </tr>\n",
       "    <tr>\n",
       "      <th>model_2</th>\n",
       "      <td>0.93</td>\n",
       "      <td>1500.0</td>\n",
       "      <td>0.0</td>\n",
       "      <td>(1, 1)</td>\n",
       "      <td>0.865286</td>\n",
       "      <td>NaN</td>\n",
       "      <td>NaN</td>\n",
       "      <td>NaN</td>\n",
       "      <td>NaN</td>\n",
       "    </tr>\n",
       "    <tr>\n",
       "      <th>model_3</th>\n",
       "      <td>NaN</td>\n",
       "      <td>NaN</td>\n",
       "      <td>NaN</td>\n",
       "      <td>NaN</td>\n",
       "      <td>0.552857</td>\n",
       "      <td>0.96</td>\n",
       "      <td>1000.0</td>\n",
       "      <td>0.1</td>\n",
       "      <td>(1, 2)</td>\n",
       "    </tr>\n",
       "  </tbody>\n",
       "</table>\n",
       "</div>"
      ],
      "text/plain": [
       "         cvec__max_df  cvec__max_features  cvec__min_df cvec__ngram_range  \\\n",
       "model_1          0.96              1000.0           0.1            (1, 2)   \n",
       "model_2          0.93              1500.0           0.0            (1, 1)   \n",
       "model_3           NaN                 NaN           NaN               NaN   \n",
       "\n",
       "            score  tf__max_df  tf__max_features  tf__min_df tf__ngram_range  \n",
       "model_1  0.552571         NaN               NaN         NaN             NaN  \n",
       "model_2  0.865286         NaN               NaN         NaN             NaN  \n",
       "model_3  0.552857        0.96            1000.0         0.1          (1, 2)  "
      ]
     },
     "execution_count": 253,
     "metadata": {},
     "output_type": "execute_result"
    }
   ],
   "source": [
    "model_df"
   ]
  },
  {
   "cell_type": "code",
   "execution_count": 254,
   "metadata": {},
   "outputs": [
    {
     "name": "stdout",
     "output_type": "stream",
     "text": [
      "Fitting 5 folds for each of 48 candidates, totalling 240 fits\n"
     ]
    },
    {
     "name": "stderr",
     "output_type": "stream",
     "text": [
      "[Parallel(n_jobs=4)]: Using backend LokyBackend with 4 concurrent workers.\n",
      "[Parallel(n_jobs=4)]: Done  42 tasks      | elapsed:    2.9s\n",
      "[Parallel(n_jobs=4)]: Done 192 tasks      | elapsed:   13.1s\n",
      "[Parallel(n_jobs=4)]: Done 240 out of 240 | elapsed:   15.8s finished\n"
     ]
    }
   ],
   "source": [
    "tf_nb_pipe = Pipeline([\n",
    "    ('tf', TfidfVectorizer()),\n",
    "    ('nb', MultinomialNB())\n",
    "])\n",
    "\n",
    "tf_nb_params = {\n",
    "    'tf__max_features' : range(500, 2000, 500),\n",
    "    'tf__min_df' : [0, 0.1],\n",
    "    'tf__max_df' : [0.93, 0.94, 0.95, .96],\n",
    "    'tf__ngram_range' : [(1,1), (1,2)]\n",
    "}\n",
    "\n",
    "tf_nb_gs = GridSearchCV(tf_nb_pipe, \n",
    "                  param_grid=tf_nb_params, \n",
    "                  cv=5, \n",
    "                  n_jobs=4, \n",
    "                  verbose=1)\n",
    "\n",
    "tf_nb_gs.fit(X_train, y_train)\n",
    "\n",
    "count += 1\n",
    "\n",
    "tf_nb_gs.best_params_['score'] = tf_nb_gs.best_score_\n",
    "model_params[f'model_{count}'] = tf_nb_gs.best_params_\n",
    "\n",
    "model_df = pd.DataFrame.from_dict(model_params, orient='index')"
   ]
  },
  {
   "cell_type": "code",
   "execution_count": 270,
   "metadata": {},
   "outputs": [
    {
     "data": {
      "text/plain": [
       "0.875"
      ]
     },
     "execution_count": 270,
     "metadata": {},
     "output_type": "execute_result"
    }
   ],
   "source": [
    "tf_nb_gs.score(X_test, y_test) # The score for the test model 2"
   ]
  },
  {
   "cell_type": "code",
   "execution_count": 267,
   "metadata": {},
   "outputs": [
    {
     "data": {
      "text/html": [
       "<div>\n",
       "<style scoped>\n",
       "    .dataframe tbody tr th:only-of-type {\n",
       "        vertical-align: middle;\n",
       "    }\n",
       "\n",
       "    .dataframe tbody tr th {\n",
       "        vertical-align: top;\n",
       "    }\n",
       "\n",
       "    .dataframe thead th {\n",
       "        text-align: right;\n",
       "    }\n",
       "</style>\n",
       "<table border=\"1\" class=\"dataframe\">\n",
       "  <thead>\n",
       "    <tr style=\"text-align: right;\">\n",
       "      <th></th>\n",
       "      <th>cvec__max_df</th>\n",
       "      <th>cvec__max_features</th>\n",
       "      <th>cvec__min_df</th>\n",
       "      <th>cvec__ngram_range</th>\n",
       "      <th>score</th>\n",
       "      <th>tf__max_df</th>\n",
       "      <th>tf__max_features</th>\n",
       "      <th>tf__min_df</th>\n",
       "      <th>tf__ngram_range</th>\n",
       "      <th>rf__ccp_alpha</th>\n",
       "      <th>rf__max_depth</th>\n",
       "      <th>rf__n_estimators</th>\n",
       "    </tr>\n",
       "  </thead>\n",
       "  <tbody>\n",
       "    <tr>\n",
       "      <th>model_1</th>\n",
       "      <td>0.96</td>\n",
       "      <td>1000.0</td>\n",
       "      <td>0.1</td>\n",
       "      <td>(1, 2)</td>\n",
       "      <td>0.552571</td>\n",
       "      <td>NaN</td>\n",
       "      <td>NaN</td>\n",
       "      <td>NaN</td>\n",
       "      <td>NaN</td>\n",
       "      <td>NaN</td>\n",
       "      <td>NaN</td>\n",
       "      <td>NaN</td>\n",
       "    </tr>\n",
       "    <tr>\n",
       "      <th>model_2</th>\n",
       "      <td>0.93</td>\n",
       "      <td>1500.0</td>\n",
       "      <td>0.0</td>\n",
       "      <td>(1, 1)</td>\n",
       "      <td>0.865286</td>\n",
       "      <td>NaN</td>\n",
       "      <td>NaN</td>\n",
       "      <td>NaN</td>\n",
       "      <td>NaN</td>\n",
       "      <td>NaN</td>\n",
       "      <td>NaN</td>\n",
       "      <td>NaN</td>\n",
       "    </tr>\n",
       "    <tr>\n",
       "      <th>model_5</th>\n",
       "      <td>0.94</td>\n",
       "      <td>1500.0</td>\n",
       "      <td>0.0</td>\n",
       "      <td>(1, 1)</td>\n",
       "      <td>0.856143</td>\n",
       "      <td>NaN</td>\n",
       "      <td>NaN</td>\n",
       "      <td>NaN</td>\n",
       "      <td>NaN</td>\n",
       "      <td>0.0001</td>\n",
       "      <td>NaN</td>\n",
       "      <td>100.0</td>\n",
       "    </tr>\n",
       "    <tr>\n",
       "      <th>model_6</th>\n",
       "      <td>0.94</td>\n",
       "      <td>2500.0</td>\n",
       "      <td>0.0</td>\n",
       "      <td>(1, 1)</td>\n",
       "      <td>0.857571</td>\n",
       "      <td>NaN</td>\n",
       "      <td>NaN</td>\n",
       "      <td>NaN</td>\n",
       "      <td>NaN</td>\n",
       "      <td>0.0001</td>\n",
       "      <td>NaN</td>\n",
       "      <td>90.0</td>\n",
       "    </tr>\n",
       "    <tr>\n",
       "      <th>model_7</th>\n",
       "      <td>0.93</td>\n",
       "      <td>1500.0</td>\n",
       "      <td>0.0</td>\n",
       "      <td>(1, 1)</td>\n",
       "      <td>0.865286</td>\n",
       "      <td>NaN</td>\n",
       "      <td>NaN</td>\n",
       "      <td>NaN</td>\n",
       "      <td>NaN</td>\n",
       "      <td>NaN</td>\n",
       "      <td>NaN</td>\n",
       "      <td>NaN</td>\n",
       "    </tr>\n",
       "    <tr>\n",
       "      <th>model_3</th>\n",
       "      <td>NaN</td>\n",
       "      <td>NaN</td>\n",
       "      <td>NaN</td>\n",
       "      <td>NaN</td>\n",
       "      <td>0.552857</td>\n",
       "      <td>0.96</td>\n",
       "      <td>1000.0</td>\n",
       "      <td>0.1</td>\n",
       "      <td>(1, 2)</td>\n",
       "      <td>NaN</td>\n",
       "      <td>NaN</td>\n",
       "      <td>NaN</td>\n",
       "    </tr>\n",
       "    <tr>\n",
       "      <th>model_4</th>\n",
       "      <td>NaN</td>\n",
       "      <td>NaN</td>\n",
       "      <td>NaN</td>\n",
       "      <td>NaN</td>\n",
       "      <td>0.865000</td>\n",
       "      <td>0.93</td>\n",
       "      <td>1500.0</td>\n",
       "      <td>0.0</td>\n",
       "      <td>(1, 1)</td>\n",
       "      <td>NaN</td>\n",
       "      <td>NaN</td>\n",
       "      <td>NaN</td>\n",
       "    </tr>\n",
       "  </tbody>\n",
       "</table>\n",
       "</div>"
      ],
      "text/plain": [
       "         cvec__max_df  cvec__max_features  cvec__min_df cvec__ngram_range  \\\n",
       "model_1          0.96              1000.0           0.1            (1, 2)   \n",
       "model_2          0.93              1500.0           0.0            (1, 1)   \n",
       "model_5          0.94              1500.0           0.0            (1, 1)   \n",
       "model_6          0.94              2500.0           0.0            (1, 1)   \n",
       "model_7          0.93              1500.0           0.0            (1, 1)   \n",
       "model_3           NaN                 NaN           NaN               NaN   \n",
       "model_4           NaN                 NaN           NaN               NaN   \n",
       "\n",
       "            score  tf__max_df  tf__max_features  tf__min_df tf__ngram_range  \\\n",
       "model_1  0.552571         NaN               NaN         NaN             NaN   \n",
       "model_2  0.865286         NaN               NaN         NaN             NaN   \n",
       "model_5  0.856143         NaN               NaN         NaN             NaN   \n",
       "model_6  0.857571         NaN               NaN         NaN             NaN   \n",
       "model_7  0.865286         NaN               NaN         NaN             NaN   \n",
       "model_3  0.552857        0.96            1000.0         0.1          (1, 2)   \n",
       "model_4  0.865000        0.93            1500.0         0.0          (1, 1)   \n",
       "\n",
       "         rf__ccp_alpha  rf__max_depth  rf__n_estimators  \n",
       "model_1            NaN            NaN               NaN  \n",
       "model_2            NaN            NaN               NaN  \n",
       "model_5         0.0001            NaN             100.0  \n",
       "model_6         0.0001            NaN              90.0  \n",
       "model_7            NaN            NaN               NaN  \n",
       "model_3            NaN            NaN               NaN  \n",
       "model_4            NaN            NaN               NaN  "
      ]
     },
     "execution_count": 267,
     "metadata": {},
     "output_type": "execute_result"
    }
   ],
   "source": [
    "model_df"
   ]
  },
  {
   "cell_type": "markdown",
   "metadata": {},
   "source": [
    "### Model 3: CountVectorizer and RandomForest"
   ]
  },
  {
   "cell_type": "code",
   "execution_count": 258,
   "metadata": {},
   "outputs": [
    {
     "name": "stdout",
     "output_type": "stream",
     "text": [
      "Fitting 5 folds for each of 864 candidates, totalling 4320 fits\n"
     ]
    },
    {
     "name": "stderr",
     "output_type": "stream",
     "text": [
      "[Parallel(n_jobs=4)]: Using backend LokyBackend with 4 concurrent workers.\n",
      "[Parallel(n_jobs=4)]: Done  42 tasks      | elapsed:   11.5s\n",
      "[Parallel(n_jobs=4)]: Done 192 tasks      | elapsed:   49.9s\n",
      "[Parallel(n_jobs=4)]: Done 442 tasks      | elapsed:  1.7min\n",
      "[Parallel(n_jobs=4)]: Done 792 tasks      | elapsed:  2.9min\n",
      "[Parallel(n_jobs=4)]: Done 1242 tasks      | elapsed:  4.6min\n",
      "[Parallel(n_jobs=4)]: Done 1792 tasks      | elapsed:  7.0min\n",
      "[Parallel(n_jobs=4)]: Done 2442 tasks      | elapsed:  9.3min\n",
      "[Parallel(n_jobs=4)]: Done 3192 tasks      | elapsed: 12.2min\n",
      "[Parallel(n_jobs=4)]: Done 4042 tasks      | elapsed: 15.6min\n",
      "[Parallel(n_jobs=4)]: Done 4320 out of 4320 | elapsed: 16.5min finished\n"
     ]
    }
   ],
   "source": [
    "cvec_rf_pipe = Pipeline([\n",
    "    ('cvec', CountVectorizer()),\n",
    "    ('rf', RandomForestClassifier())\n",
    "])\n",
    "\n",
    "cvec_rf_params = {\n",
    "    'cvec__max_features' : range(500, 2000, 500),\n",
    "    'cvec__min_df' : [0, 0.1],\n",
    "    'cvec__max_df' : [0.93, 0.94],\n",
    "    'cvec__ngram_range' : [(1,1), (1,2)],\n",
    "    'rf__n_estimators' : [50, 75, 100],\n",
    "    'rf__max_depth': [None, 4, 5],\n",
    "    'rf__ccp_alpha' : [0, 0.0001, 0.001, 0.01]\n",
    "}\n",
    "\n",
    "cvec_rf_gs = GridSearchCV(cvec_rf_pipe, \n",
    "                  param_grid=cvec_rf_params, \n",
    "                  cv=5, \n",
    "                  n_jobs=4, \n",
    "                  verbose=1)\n",
    "\n",
    "cvec_rf_gs.fit(X_train, y_train)\n",
    "\n",
    "count += 1\n",
    "\n",
    "cvec_rf_gs.best_params_['score'] = cvec_rf_gs.best_score_\n",
    "model_params[f'model_{count}'] = cvec_rf_gs.best_params_\n",
    "\n",
    "model_df = pd.DataFrame.from_dict(model_params, orient='index')"
   ]
  },
  {
   "cell_type": "code",
   "execution_count": 259,
   "metadata": {},
   "outputs": [
    {
     "data": {
      "text/html": [
       "<div>\n",
       "<style scoped>\n",
       "    .dataframe tbody tr th:only-of-type {\n",
       "        vertical-align: middle;\n",
       "    }\n",
       "\n",
       "    .dataframe tbody tr th {\n",
       "        vertical-align: top;\n",
       "    }\n",
       "\n",
       "    .dataframe thead th {\n",
       "        text-align: right;\n",
       "    }\n",
       "</style>\n",
       "<table border=\"1\" class=\"dataframe\">\n",
       "  <thead>\n",
       "    <tr style=\"text-align: right;\">\n",
       "      <th></th>\n",
       "      <th>cvec__max_df</th>\n",
       "      <th>cvec__max_features</th>\n",
       "      <th>cvec__min_df</th>\n",
       "      <th>cvec__ngram_range</th>\n",
       "      <th>score</th>\n",
       "      <th>tf__max_df</th>\n",
       "      <th>tf__max_features</th>\n",
       "      <th>tf__min_df</th>\n",
       "      <th>tf__ngram_range</th>\n",
       "      <th>rf__ccp_alpha</th>\n",
       "      <th>rf__max_depth</th>\n",
       "      <th>rf__n_estimators</th>\n",
       "    </tr>\n",
       "  </thead>\n",
       "  <tbody>\n",
       "    <tr>\n",
       "      <th>model_1</th>\n",
       "      <td>0.96</td>\n",
       "      <td>1000.0</td>\n",
       "      <td>0.1</td>\n",
       "      <td>(1, 2)</td>\n",
       "      <td>0.552571</td>\n",
       "      <td>NaN</td>\n",
       "      <td>NaN</td>\n",
       "      <td>NaN</td>\n",
       "      <td>NaN</td>\n",
       "      <td>NaN</td>\n",
       "      <td>NaN</td>\n",
       "      <td>NaN</td>\n",
       "    </tr>\n",
       "    <tr>\n",
       "      <th>model_2</th>\n",
       "      <td>0.93</td>\n",
       "      <td>1500.0</td>\n",
       "      <td>0.0</td>\n",
       "      <td>(1, 1)</td>\n",
       "      <td>0.865286</td>\n",
       "      <td>NaN</td>\n",
       "      <td>NaN</td>\n",
       "      <td>NaN</td>\n",
       "      <td>NaN</td>\n",
       "      <td>NaN</td>\n",
       "      <td>NaN</td>\n",
       "      <td>NaN</td>\n",
       "    </tr>\n",
       "    <tr>\n",
       "      <th>model_5</th>\n",
       "      <td>0.94</td>\n",
       "      <td>1500.0</td>\n",
       "      <td>0.0</td>\n",
       "      <td>(1, 1)</td>\n",
       "      <td>0.856143</td>\n",
       "      <td>NaN</td>\n",
       "      <td>NaN</td>\n",
       "      <td>NaN</td>\n",
       "      <td>NaN</td>\n",
       "      <td>0.0001</td>\n",
       "      <td>NaN</td>\n",
       "      <td>100.0</td>\n",
       "    </tr>\n",
       "    <tr>\n",
       "      <th>model_3</th>\n",
       "      <td>NaN</td>\n",
       "      <td>NaN</td>\n",
       "      <td>NaN</td>\n",
       "      <td>NaN</td>\n",
       "      <td>0.552857</td>\n",
       "      <td>0.96</td>\n",
       "      <td>1000.0</td>\n",
       "      <td>0.1</td>\n",
       "      <td>(1, 2)</td>\n",
       "      <td>NaN</td>\n",
       "      <td>NaN</td>\n",
       "      <td>NaN</td>\n",
       "    </tr>\n",
       "    <tr>\n",
       "      <th>model_4</th>\n",
       "      <td>NaN</td>\n",
       "      <td>NaN</td>\n",
       "      <td>NaN</td>\n",
       "      <td>NaN</td>\n",
       "      <td>0.865000</td>\n",
       "      <td>0.93</td>\n",
       "      <td>1500.0</td>\n",
       "      <td>0.0</td>\n",
       "      <td>(1, 1)</td>\n",
       "      <td>NaN</td>\n",
       "      <td>NaN</td>\n",
       "      <td>NaN</td>\n",
       "    </tr>\n",
       "  </tbody>\n",
       "</table>\n",
       "</div>"
      ],
      "text/plain": [
       "         cvec__max_df  cvec__max_features  cvec__min_df cvec__ngram_range  \\\n",
       "model_1          0.96              1000.0           0.1            (1, 2)   \n",
       "model_2          0.93              1500.0           0.0            (1, 1)   \n",
       "model_5          0.94              1500.0           0.0            (1, 1)   \n",
       "model_3           NaN                 NaN           NaN               NaN   \n",
       "model_4           NaN                 NaN           NaN               NaN   \n",
       "\n",
       "            score  tf__max_df  tf__max_features  tf__min_df tf__ngram_range  \\\n",
       "model_1  0.552571         NaN               NaN         NaN             NaN   \n",
       "model_2  0.865286         NaN               NaN         NaN             NaN   \n",
       "model_5  0.856143         NaN               NaN         NaN             NaN   \n",
       "model_3  0.552857        0.96            1000.0         0.1          (1, 2)   \n",
       "model_4  0.865000        0.93            1500.0         0.0          (1, 1)   \n",
       "\n",
       "         rf__ccp_alpha  rf__max_depth  rf__n_estimators  \n",
       "model_1            NaN            NaN               NaN  \n",
       "model_2            NaN            NaN               NaN  \n",
       "model_5         0.0001            NaN             100.0  \n",
       "model_3            NaN            NaN               NaN  \n",
       "model_4            NaN            NaN               NaN  "
      ]
     },
     "execution_count": 259,
     "metadata": {},
     "output_type": "execute_result"
    }
   ],
   "source": [
    "model_df"
   ]
  },
  {
   "cell_type": "code",
   "execution_count": 260,
   "metadata": {},
   "outputs": [
    {
     "name": "stdout",
     "output_type": "stream",
     "text": [
      "Fitting 5 folds for each of 576 candidates, totalling 2880 fits\n"
     ]
    },
    {
     "name": "stderr",
     "output_type": "stream",
     "text": [
      "[Parallel(n_jobs=4)]: Using backend LokyBackend with 4 concurrent workers.\n",
      "[Parallel(n_jobs=4)]: Done  42 tasks      | elapsed:   31.3s\n",
      "[Parallel(n_jobs=4)]: Done 192 tasks      | elapsed:  1.6min\n",
      "[Parallel(n_jobs=4)]: Done 442 tasks      | elapsed:  3.5min\n",
      "[Parallel(n_jobs=4)]: Done 792 tasks      | elapsed:  6.7min\n",
      "[Parallel(n_jobs=4)]: Done 1242 tasks      | elapsed: 10.2min\n",
      "[Parallel(n_jobs=4)]: Done 1792 tasks      | elapsed: 15.3min\n",
      "[Parallel(n_jobs=4)]: Done 2442 tasks      | elapsed: 20.7min\n",
      "[Parallel(n_jobs=4)]: Done 2880 out of 2880 | elapsed: 24.7min finished\n"
     ]
    }
   ],
   "source": [
    "cvec_rf_pipe = Pipeline([\n",
    "    ('cvec', CountVectorizer()),\n",
    "    ('rf', RandomForestClassifier())\n",
    "])\n",
    "\n",
    "cvec_rf_params = {\n",
    "    'cvec__max_features' : range(1000, 3000, 500),\n",
    "    'cvec__min_df' : [0, 0.01, 0.02, 0.03],\n",
    "    'cvec__max_df' : [0.94, 0.95, 0.96],\n",
    "    'cvec__ngram_range' : [(1,1), (2,2)],\n",
    "    'rf__n_estimators' : [90, 100, 110],\n",
    "    'rf__max_depth': [None],\n",
    "    'rf__ccp_alpha' : [0.00001, 0.0001]\n",
    "}\n",
    "\n",
    "cvec_rf_gs = GridSearchCV(cvec_rf_pipe, \n",
    "                  param_grid=cvec_rf_params, \n",
    "                  cv=5, \n",
    "                  n_jobs=4, \n",
    "                  verbose=1)\n",
    "\n",
    "cvec_rf_gs.fit(X_train, y_train)\n",
    "\n",
    "count += 1\n",
    "\n",
    "cvec_rf_gs.best_params_['score'] = cvec_rf_gs.best_score_\n",
    "model_params[f'model_{count}'] = cvec_rf_gs.best_params_\n",
    "\n",
    "model_df = pd.DataFrame.from_dict(model_params, orient='index')"
   ]
  },
  {
   "cell_type": "code",
   "execution_count": 261,
   "metadata": {},
   "outputs": [
    {
     "data": {
      "text/html": [
       "<div>\n",
       "<style scoped>\n",
       "    .dataframe tbody tr th:only-of-type {\n",
       "        vertical-align: middle;\n",
       "    }\n",
       "\n",
       "    .dataframe tbody tr th {\n",
       "        vertical-align: top;\n",
       "    }\n",
       "\n",
       "    .dataframe thead th {\n",
       "        text-align: right;\n",
       "    }\n",
       "</style>\n",
       "<table border=\"1\" class=\"dataframe\">\n",
       "  <thead>\n",
       "    <tr style=\"text-align: right;\">\n",
       "      <th></th>\n",
       "      <th>cvec__max_df</th>\n",
       "      <th>cvec__max_features</th>\n",
       "      <th>cvec__min_df</th>\n",
       "      <th>cvec__ngram_range</th>\n",
       "      <th>score</th>\n",
       "      <th>tf__max_df</th>\n",
       "      <th>tf__max_features</th>\n",
       "      <th>tf__min_df</th>\n",
       "      <th>tf__ngram_range</th>\n",
       "      <th>rf__ccp_alpha</th>\n",
       "      <th>rf__max_depth</th>\n",
       "      <th>rf__n_estimators</th>\n",
       "    </tr>\n",
       "  </thead>\n",
       "  <tbody>\n",
       "    <tr>\n",
       "      <th>model_1</th>\n",
       "      <td>0.96</td>\n",
       "      <td>1000.0</td>\n",
       "      <td>0.1</td>\n",
       "      <td>(1, 2)</td>\n",
       "      <td>0.552571</td>\n",
       "      <td>NaN</td>\n",
       "      <td>NaN</td>\n",
       "      <td>NaN</td>\n",
       "      <td>NaN</td>\n",
       "      <td>NaN</td>\n",
       "      <td>NaN</td>\n",
       "      <td>NaN</td>\n",
       "    </tr>\n",
       "    <tr>\n",
       "      <th>model_2</th>\n",
       "      <td>0.93</td>\n",
       "      <td>1500.0</td>\n",
       "      <td>0.0</td>\n",
       "      <td>(1, 1)</td>\n",
       "      <td>0.865286</td>\n",
       "      <td>NaN</td>\n",
       "      <td>NaN</td>\n",
       "      <td>NaN</td>\n",
       "      <td>NaN</td>\n",
       "      <td>NaN</td>\n",
       "      <td>NaN</td>\n",
       "      <td>NaN</td>\n",
       "    </tr>\n",
       "    <tr>\n",
       "      <th>model_5</th>\n",
       "      <td>0.94</td>\n",
       "      <td>1500.0</td>\n",
       "      <td>0.0</td>\n",
       "      <td>(1, 1)</td>\n",
       "      <td>0.856143</td>\n",
       "      <td>NaN</td>\n",
       "      <td>NaN</td>\n",
       "      <td>NaN</td>\n",
       "      <td>NaN</td>\n",
       "      <td>0.0001</td>\n",
       "      <td>NaN</td>\n",
       "      <td>100.0</td>\n",
       "    </tr>\n",
       "    <tr>\n",
       "      <th>model_6</th>\n",
       "      <td>0.94</td>\n",
       "      <td>2500.0</td>\n",
       "      <td>0.0</td>\n",
       "      <td>(1, 1)</td>\n",
       "      <td>0.857571</td>\n",
       "      <td>NaN</td>\n",
       "      <td>NaN</td>\n",
       "      <td>NaN</td>\n",
       "      <td>NaN</td>\n",
       "      <td>0.0001</td>\n",
       "      <td>NaN</td>\n",
       "      <td>90.0</td>\n",
       "    </tr>\n",
       "    <tr>\n",
       "      <th>model_3</th>\n",
       "      <td>NaN</td>\n",
       "      <td>NaN</td>\n",
       "      <td>NaN</td>\n",
       "      <td>NaN</td>\n",
       "      <td>0.552857</td>\n",
       "      <td>0.96</td>\n",
       "      <td>1000.0</td>\n",
       "      <td>0.1</td>\n",
       "      <td>(1, 2)</td>\n",
       "      <td>NaN</td>\n",
       "      <td>NaN</td>\n",
       "      <td>NaN</td>\n",
       "    </tr>\n",
       "    <tr>\n",
       "      <th>model_4</th>\n",
       "      <td>NaN</td>\n",
       "      <td>NaN</td>\n",
       "      <td>NaN</td>\n",
       "      <td>NaN</td>\n",
       "      <td>0.865000</td>\n",
       "      <td>0.93</td>\n",
       "      <td>1500.0</td>\n",
       "      <td>0.0</td>\n",
       "      <td>(1, 1)</td>\n",
       "      <td>NaN</td>\n",
       "      <td>NaN</td>\n",
       "      <td>NaN</td>\n",
       "    </tr>\n",
       "  </tbody>\n",
       "</table>\n",
       "</div>"
      ],
      "text/plain": [
       "         cvec__max_df  cvec__max_features  cvec__min_df cvec__ngram_range  \\\n",
       "model_1          0.96              1000.0           0.1            (1, 2)   \n",
       "model_2          0.93              1500.0           0.0            (1, 1)   \n",
       "model_5          0.94              1500.0           0.0            (1, 1)   \n",
       "model_6          0.94              2500.0           0.0            (1, 1)   \n",
       "model_3           NaN                 NaN           NaN               NaN   \n",
       "model_4           NaN                 NaN           NaN               NaN   \n",
       "\n",
       "            score  tf__max_df  tf__max_features  tf__min_df tf__ngram_range  \\\n",
       "model_1  0.552571         NaN               NaN         NaN             NaN   \n",
       "model_2  0.865286         NaN               NaN         NaN             NaN   \n",
       "model_5  0.856143         NaN               NaN         NaN             NaN   \n",
       "model_6  0.857571         NaN               NaN         NaN             NaN   \n",
       "model_3  0.552857        0.96            1000.0         0.1          (1, 2)   \n",
       "model_4  0.865000        0.93            1500.0         0.0          (1, 1)   \n",
       "\n",
       "         rf__ccp_alpha  rf__max_depth  rf__n_estimators  \n",
       "model_1            NaN            NaN               NaN  \n",
       "model_2            NaN            NaN               NaN  \n",
       "model_5         0.0001            NaN             100.0  \n",
       "model_6         0.0001            NaN              90.0  \n",
       "model_3            NaN            NaN               NaN  \n",
       "model_4            NaN            NaN               NaN  "
      ]
     },
     "execution_count": 261,
     "metadata": {},
     "output_type": "execute_result"
    }
   ],
   "source": [
    "model_df"
   ]
  },
  {
   "cell_type": "code",
   "execution_count": 269,
   "metadata": {},
   "outputs": [
    {
     "data": {
      "text/plain": [
       "0.862"
      ]
     },
     "execution_count": 269,
     "metadata": {},
     "output_type": "execute_result"
    }
   ],
   "source": [
    "cvec_rf_gs.score(X_test, y_test)"
   ]
  },
  {
   "cell_type": "markdown",
   "metadata": {},
   "source": [
    "### All Scores"
   ]
  },
  {
   "cell_type": "code",
   "execution_count": 285,
   "metadata": {},
   "outputs": [],
   "source": [
    "scores = pd.DataFrame()"
   ]
  },
  {
   "cell_type": "code",
   "execution_count": 286,
   "metadata": {},
   "outputs": [],
   "source": [
    "scores['models'] = ['cvec_nb', 'tfidf_nb', 'cvec_rf']"
   ]
  },
  {
   "cell_type": "code",
   "execution_count": 288,
   "metadata": {},
   "outputs": [],
   "source": [
    "scores['train_acc_score'] = [cvec_nb_gs.score(X_train, y_train), tf_nb_gs.score(X_train, y_train), cvec_rf_gs.score(X_train, y_train)]"
   ]
  },
  {
   "cell_type": "code",
   "execution_count": 292,
   "metadata": {},
   "outputs": [],
   "source": [
    "scores['test_acc_score'] = [cvec_nb_gs.score(X_test, y_test), tf_nb_gs.score(X_test, y_test), cvec_rf_gs.score(X_test, y_test)]"
   ]
  },
  {
   "cell_type": "code",
   "execution_count": 293,
   "metadata": {},
   "outputs": [
    {
     "data": {
      "text/html": [
       "<div>\n",
       "<style scoped>\n",
       "    .dataframe tbody tr th:only-of-type {\n",
       "        vertical-align: middle;\n",
       "    }\n",
       "\n",
       "    .dataframe tbody tr th {\n",
       "        vertical-align: top;\n",
       "    }\n",
       "\n",
       "    .dataframe thead th {\n",
       "        text-align: right;\n",
       "    }\n",
       "</style>\n",
       "<table border=\"1\" class=\"dataframe\">\n",
       "  <thead>\n",
       "    <tr style=\"text-align: right;\">\n",
       "      <th></th>\n",
       "      <th>models</th>\n",
       "      <th>train_score</th>\n",
       "      <th>test_acc_score</th>\n",
       "    </tr>\n",
       "  </thead>\n",
       "  <tbody>\n",
       "    <tr>\n",
       "      <th>0</th>\n",
       "      <td>cvec_nb</td>\n",
       "      <td>0.887143</td>\n",
       "      <td>0.869667</td>\n",
       "    </tr>\n",
       "    <tr>\n",
       "      <th>1</th>\n",
       "      <td>tfidf_nb</td>\n",
       "      <td>0.888571</td>\n",
       "      <td>0.875000</td>\n",
       "    </tr>\n",
       "    <tr>\n",
       "      <th>2</th>\n",
       "      <td>cvec_rf</td>\n",
       "      <td>0.970143</td>\n",
       "      <td>0.862000</td>\n",
       "    </tr>\n",
       "  </tbody>\n",
       "</table>\n",
       "</div>"
      ],
      "text/plain": [
       "     models  train_score  test_acc_score\n",
       "0   cvec_nb     0.887143        0.869667\n",
       "1  tfidf_nb     0.888571        0.875000\n",
       "2   cvec_rf     0.970143        0.862000"
      ]
     },
     "execution_count": 293,
     "metadata": {},
     "output_type": "execute_result"
    }
   ],
   "source": [
    "scores"
   ]
  },
  {
   "cell_type": "markdown",
   "metadata": {},
   "source": [
    "From the model we can see that the Random Forest model is severely overfit.\n",
    "The best result comes from the TF-IDF and Polynomial Naivë Bayes model which I will use to evaluate and explain"
   ]
  },
  {
   "cell_type": "markdown",
   "metadata": {},
   "source": [
    "## Step 6: Evaluation and Explanation"
   ]
  },
  {
   "cell_type": "markdown",
   "metadata": {},
   "source": [
    "### Where predictions are not the same as reality"
   ]
  },
  {
   "cell_type": "code",
   "execution_count": 296,
   "metadata": {},
   "outputs": [],
   "source": [
    "y_preds = tf_nb_gs.predict(X_test)"
   ]
  },
  {
   "cell_type": "code",
   "execution_count": 308,
   "metadata": {},
   "outputs": [
    {
     "data": {
      "text/plain": [
       "array([1, 0, 0, ..., 1, 1, 1])"
      ]
     },
     "execution_count": 308,
     "metadata": {},
     "output_type": "execute_result"
    }
   ],
   "source": [
    "y_preds"
   ]
  },
  {
   "cell_type": "code",
   "execution_count": 311,
   "metadata": {},
   "outputs": [
    {
     "data": {
      "text/plain": [
       "44    1\n",
       "78    0\n",
       "84    0\n",
       "39    1\n",
       "15    1\n",
       "     ..\n",
       "10    0\n",
       "18    0\n",
       "65    0\n",
       "54    1\n",
       "74    0\n",
       "Name: y_var, Length: 3000, dtype: int64"
      ]
     },
     "execution_count": 311,
     "metadata": {},
     "output_type": "execute_result"
    }
   ],
   "source": [
    "y_test"
   ]
  },
  {
   "cell_type": "code",
   "execution_count": 302,
   "metadata": {},
   "outputs": [
    {
     "data": {
      "text/plain": [
       "44    suppose you want to make 1000 random points to...\n",
       "78    cool picture i have taken by my iphone 11 and ...\n",
       "84                 here's the moon from my telescope :)\n",
       "39    what insights into gravity *theory* have been ...\n",
       "15                       genuinely stumped on this one.\n",
       "                            ...                        \n",
       "10    i photographed the blue horse head nebula. the...\n",
       "18                                                hello\n",
       "65    can someone help me identify this please (info...\n",
       "54               i'm definitely going to pursue physics\n",
       "74                                  flowers and nebulas\n",
       "Name: title, Length: 3000, dtype: object"
      ]
     },
     "execution_count": 302,
     "metadata": {},
     "output_type": "execute_result"
    }
   ],
   "source": [
    "X_test"
   ]
  },
  {
   "cell_type": "code",
   "execution_count": 303,
   "metadata": {},
   "outputs": [],
   "source": [
    "pred_df = pd.DataFrame()"
   ]
  },
  {
   "cell_type": "code",
   "execution_count": 306,
   "metadata": {},
   "outputs": [],
   "source": [
    "pred_df['real_value'] = y_test"
   ]
  },
  {
   "cell_type": "code",
   "execution_count": 309,
   "metadata": {},
   "outputs": [],
   "source": [
    "pred_df['predicted'] = y_preds"
   ]
  },
  {
   "cell_type": "code",
   "execution_count": 320,
   "metadata": {},
   "outputs": [],
   "source": [
    "pred_df['text'] = X_test"
   ]
  },
  {
   "cell_type": "code",
   "execution_count": 321,
   "metadata": {},
   "outputs": [
    {
     "data": {
      "text/html": [
       "<div>\n",
       "<style scoped>\n",
       "    .dataframe tbody tr th:only-of-type {\n",
       "        vertical-align: middle;\n",
       "    }\n",
       "\n",
       "    .dataframe tbody tr th {\n",
       "        vertical-align: top;\n",
       "    }\n",
       "\n",
       "    .dataframe thead th {\n",
       "        text-align: right;\n",
       "    }\n",
       "</style>\n",
       "<table border=\"1\" class=\"dataframe\">\n",
       "  <thead>\n",
       "    <tr style=\"text-align: right;\">\n",
       "      <th></th>\n",
       "      <th>real_value</th>\n",
       "      <th>predicted</th>\n",
       "      <th>text</th>\n",
       "    </tr>\n",
       "  </thead>\n",
       "  <tbody>\n",
       "    <tr>\n",
       "      <th>44</th>\n",
       "      <td>1</td>\n",
       "      <td>1</td>\n",
       "      <td>suppose you want to make 1000 random points to...</td>\n",
       "    </tr>\n",
       "    <tr>\n",
       "      <th>78</th>\n",
       "      <td>0</td>\n",
       "      <td>0</td>\n",
       "      <td>cool picture i have taken by my iphone 11 and ...</td>\n",
       "    </tr>\n",
       "    <tr>\n",
       "      <th>84</th>\n",
       "      <td>0</td>\n",
       "      <td>0</td>\n",
       "      <td>here's the moon from my telescope :)</td>\n",
       "    </tr>\n",
       "    <tr>\n",
       "      <th>39</th>\n",
       "      <td>1</td>\n",
       "      <td>1</td>\n",
       "      <td>what insights into gravity *theory* have been ...</td>\n",
       "    </tr>\n",
       "    <tr>\n",
       "      <th>15</th>\n",
       "      <td>1</td>\n",
       "      <td>0</td>\n",
       "      <td>genuinely stumped on this one.</td>\n",
       "    </tr>\n",
       "  </tbody>\n",
       "</table>\n",
       "</div>"
      ],
      "text/plain": [
       "    real_value  predicted                                               text\n",
       "44           1          1  suppose you want to make 1000 random points to...\n",
       "78           0          0  cool picture i have taken by my iphone 11 and ...\n",
       "84           0          0               here's the moon from my telescope :)\n",
       "39           1          1  what insights into gravity *theory* have been ...\n",
       "15           1          0                     genuinely stumped on this one."
      ]
     },
     "execution_count": 321,
     "metadata": {},
     "output_type": "execute_result"
    }
   ],
   "source": [
    "pred_df.head()"
   ]
  },
  {
   "cell_type": "code",
   "execution_count": 345,
   "metadata": {},
   "outputs": [],
   "source": [
    "wrong_data = pred_df[pred_df['real_value'] != pred_df['predicted']]"
   ]
  },
  {
   "cell_type": "code",
   "execution_count": 323,
   "metadata": {},
   "outputs": [],
   "source": [
    "tn, fp, fn, tp = confusion_matrix(y_test, y_preds).ravel()"
   ]
  },
  {
   "cell_type": "code",
   "execution_count": 326,
   "metadata": {},
   "outputs": [
    {
     "data": {
      "text/plain": [
       "375"
      ]
     },
     "execution_count": 326,
     "metadata": {},
     "output_type": "execute_result"
    }
   ],
   "source": [
    "fp + fn # I did this to make sure that I grabbed the proper part of the data from pred_df"
   ]
  },
  {
   "cell_type": "code",
   "execution_count": 352,
   "metadata": {},
   "outputs": [
    {
     "data": {
      "text/plain": [
       "2625"
      ]
     },
     "execution_count": 352,
     "metadata": {},
     "output_type": "execute_result"
    }
   ],
   "source": [
    "tn + tp"
   ]
  },
  {
   "cell_type": "markdown",
   "metadata": {},
   "source": [
    "#### Let's see what words are misclassified"
   ]
  },
  {
   "cell_type": "code",
   "execution_count": 328,
   "metadata": {},
   "outputs": [],
   "source": [
    "cvec = CountVectorizer(stop_words='english')"
   ]
  },
  {
   "cell_type": "code",
   "execution_count": 330,
   "metadata": {},
   "outputs": [],
   "source": [
    "cvec.fit(X_train)\n",
    "transf_X_test = cvec.transform(X_test)"
   ]
  },
  {
   "cell_type": "code",
   "execution_count": 354,
   "metadata": {},
   "outputs": [
    {
     "data": {
      "image/png": "[encoded data removed]",
      "text/plain": [
       "<Figure size 1152x576 with 1 Axes>"
      ]
     },
     "metadata": {
      "needs_background": "light"
     },
     "output_type": "display_data"
    }
   ],
   "source": [
    "plt.figure(figsize=(16, 8))\n",
    "transf_df = pd.DataFrame(transf_X_test.todense(),\n",
    "                        columns = cvec.get_feature_names())\n",
    "\n",
    "transf_df.sum().sort_values(ascending=False).head(20).plot(kind='barh')\n",
    "plt.title('Most frequent words in misclassified values');"
   ]
  },
  {
   "cell_type": "code",
   "execution_count": 346,
   "metadata": {},
   "outputs": [
    {
     "name": "stdout",
     "output_type": "stream",
     "text": [
      "real_value                                                    0\n",
      "predicted                                                     1\n",
      "text          how hard is it to get a job in astronomy/ astr...\n",
      "Name: 84, dtype: object\n",
      "real_value                                                    1\n",
      "predicted                                                     0\n",
      "text          not sure if it fits but i wanted to share a pi...\n",
      "Name: 90, dtype: object\n",
      "real_value                                    0\n",
      "predicted                                     1\n",
      "text          astronomy major vs. physics major\n",
      "Name: 3, dtype: object\n",
      "real_value                                                    0\n",
      "predicted                                                     1\n",
      "text          the influence of the electric polarization of ...\n",
      "Name: 47, dtype: object\n",
      "real_value                                                    0\n",
      "predicted                                                     1\n",
      "text          in case you missed it, any university with a h...\n",
      "Name: 19, dtype: object\n"
     ]
    }
   ],
   "source": [
    "for i in range(len(wrong_data['text'])):\n",
    "    if 'physics' in wrong_data['text'].iloc[i]:\n",
    "        print(wrong_data.iloc[i])"
   ]
  },
  {
   "cell_type": "code",
   "execution_count": 356,
   "metadata": {},
   "outputs": [
    {
     "data": {
      "text/plain": [
       "\"(source: eht collaboration) m87's wobbling shadow over five years, in anticipation of an upcoming paper, to be published on september 23rd, 2020.\""
      ]
     },
     "execution_count": 356,
     "metadata": {},
     "output_type": "execute_result"
    }
   ],
   "source": []
  },
  {
   "cell_type": "code",
   "execution_count": 348,
   "metadata": {},
   "outputs": [
    {
     "name": "stdout",
     "output_type": "stream",
     "text": [
      "real_value                                                    0\n",
      "predicted                                                     1\n",
      "text          please help me with my astronomy assignment i ...\n",
      "Name: 50, dtype: object\n",
      "real_value                                                    0\n",
      "predicted                                                     1\n",
      "text          please recommend me books or works to study an...\n",
      "Name: 50, dtype: object\n",
      "real_value                                                    0\n",
      "predicted                                                     1\n",
      "text          anyone here who might be interested in writing...\n",
      "Name: 74, dtype: object\n",
      "real_value                                                    0\n",
      "predicted                                                     1\n",
      "text          how hard is it to get a job in astronomy/ astr...\n",
      "Name: 84, dtype: object\n",
      "real_value                                    0\n",
      "predicted                                     1\n",
      "text          careers in the field of astronomy\n",
      "Name: 50, dtype: object\n",
      "real_value                                                    0\n",
      "predicted                                                     1\n",
      "text          i am about to finish an online astronomy cours...\n",
      "Name: 39, dtype: object\n",
      "real_value                                                    0\n",
      "predicted                                                     1\n",
      "text          q&amp;a live stream: 6 cambridge phd students ...\n",
      "Name: 43, dtype: object\n",
      "real_value                                                    0\n",
      "predicted                                                     1\n",
      "text          just starting astronomy, can someone please ex...\n",
      "Name: 21, dtype: object\n",
      "real_value                                                    1\n",
      "predicted                                                     0\n",
      "text          looking for a good textbook for \"radiative pro...\n",
      "Name: 19, dtype: object\n",
      "real_value                                                    1\n",
      "predicted                                                     0\n",
      "text          arecibo has fallen..one of the most damaging b...\n",
      "Name: 70, dtype: object\n",
      "real_value                                                    0\n",
      "predicted                                                     1\n",
      "text          wanna learn about astronomy but don't know whe...\n",
      "Name: 53, dtype: object\n",
      "real_value                                                0\n",
      "predicted                                                 1\n",
      "text          the climate issue | nature research astronomy\n",
      "Name: 82, dtype: object\n",
      "real_value                                    0\n",
      "predicted                                     1\n",
      "text          astronomy major vs. physics major\n",
      "Name: 3, dtype: object\n"
     ]
    }
   ],
   "source": [
    "for i in range(len(wrong_data['text'])):\n",
    "    if 'astronomy' in wrong_data['text'].iloc[i]:\n",
    "        print(wrong_data.iloc[i])"
   ]
  },
  {
   "cell_type": "code",
   "execution_count": 347,
   "metadata": {},
   "outputs": [
    {
     "name": "stdout",
     "output_type": "stream",
     "text": [
      "real_value                                                    0\n",
      "predicted                                                     1\n",
      "text          in a galaxy made of anti-matter, a supernova w...\n",
      "Name: 31, dtype: object\n",
      "real_value                                                    1\n",
      "predicted                                                     0\n",
      "text          if we can't really tell tell if there is a pla...\n",
      "Name: 23, dtype: object\n",
      "real_value                                                    0\n",
      "predicted                                                     1\n",
      "text          in a galaxy made of anti-matter, a supernova w...\n",
      "Name: 30, dtype: object\n",
      "real_value                                                    1\n",
      "predicted                                                     0\n",
      "text          if the light from stars take thousands of year...\n",
      "Name: 29, dtype: object\n",
      "real_value                                                    1\n",
      "predicted                                                     0\n",
      "text          fast radio bursts within the milky way galaxy ...\n",
      "Name: 60, dtype: object\n"
     ]
    }
   ],
   "source": [
    "for i in range(len(wrong_data['text'])):\n",
    "    if 'galaxy' in wrong_data['text'].iloc[i]:\n",
    "        print(wrong_data.iloc[i])"
   ]
  },
  {
   "cell_type": "code",
   "execution_count": 349,
   "metadata": {},
   "outputs": [
    {
     "name": "stdout",
     "output_type": "stream",
     "text": [
      "real_value                                                    0\n",
      "predicted                                                     1\n",
      "text          how small a black hole can get? quantum mechan...\n",
      "Name: 61, dtype: object\n"
     ]
    }
   ],
   "source": [
    "for i in range(len(wrong_data['text'])):\n",
    "    if 'quantum' in wrong_data['text'].iloc[i]:\n",
    "        print(wrong_data.iloc[i])"
   ]
  },
  {
   "cell_type": "code",
   "execution_count": 350,
   "metadata": {},
   "outputs": [
    {
     "name": "stdout",
     "output_type": "stream",
     "text": [
      "real_value                                                    0\n",
      "predicted                                                     1\n",
      "text          water on mars: discovery of three buried lakes...\n",
      "Name: 63, dtype: object\n",
      "real_value                                                    1\n",
      "predicted                                                     0\n",
      "text          scientists have designed a way to transform wa...\n",
      "Name: 1, dtype: object\n",
      "real_value                           1\n",
      "predicted                            0\n",
      "text          what is the mass of mars\n",
      "Name: 65, dtype: object\n",
      "real_value                                                    1\n",
      "predicted                                                     0\n",
      "text          is being john malkovich real? like, could some...\n",
      "Name: 56, dtype: object\n"
     ]
    }
   ],
   "source": [
    "for i in range(len(wrong_data['text'])):\n",
    "    if 'mars' in wrong_data['text'].iloc[i]:\n",
    "        print(wrong_data.iloc[i])"
   ]
  },
  {
   "cell_type": "code",
   "execution_count": 353,
   "metadata": {},
   "outputs": [
    {
     "name": "stdout",
     "output_type": "stream",
     "text": [
      "real_value                                                    1\n",
      "predicted                                                     0\n",
      "text          is the moon in the gravitational field of the ...\n",
      "Name: 91, dtype: object\n",
      "real_value                                                    0\n",
      "predicted                                                     1\n",
      "text          can the moon be upside down? which way up does...\n",
      "Name: 47, dtype: object\n",
      "real_value                                         0\n",
      "predicted                                          1\n",
      "text          i can stair at this forever. moonlight\n",
      "Name: 76, dtype: object\n",
      "real_value                                                    1\n",
      "predicted                                                     0\n",
      "text          how many helium balloons would it take to lift...\n",
      "Name: 53, dtype: object\n"
     ]
    }
   ],
   "source": [
    "for i in range(len(wrong_data['text'])):\n",
    "    if 'moon' in wrong_data['text'].iloc[i]:\n",
    "        print(wrong_data.iloc[i])"
   ]
  },
  {
   "cell_type": "code",
   "execution_count": null,
   "metadata": {},
   "outputs": [],
   "source": []
  }
 ],
 "metadata": {
  "kernelspec": {
   "display_name": "Python 3",
   "language": "python",
   "name": "python3"
  },
  "language_info": {
   "codemirror_mode": {
    "name": "ipython",
    "version": 3
   },
   "file_extension": ".py",
   "mimetype": "text/x-python",
   "name": "python",
   "nbconvert_exporter": "python",
   "pygments_lexer": "ipython3",
   "version": "3.8.3"
  }
 },
 "nbformat": 4,
 "nbformat_minor": 4
}
